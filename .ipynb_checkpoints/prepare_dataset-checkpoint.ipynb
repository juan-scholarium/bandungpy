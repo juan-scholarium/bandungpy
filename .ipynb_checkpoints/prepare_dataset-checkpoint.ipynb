{
 "cells": [
  {
   "cell_type": "markdown",
   "id": "rocky-deadline",
   "metadata": {},
   "source": [
    "# Prepare Dataset"
   ]
  },
  {
   "cell_type": "code",
   "execution_count": 1,
   "id": "equipped-member",
   "metadata": {},
   "outputs": [
    {
     "name": "stdout",
     "output_type": "stream",
     "text": [
      "--2021-04-07 19:38:00--  ftp://cs.stanford.edu/cs/cvgl/Stanford_Online_Products.zip\n",
      "           => ‘Stanford_Online_Products.zip’\n",
      "Resolving cs.stanford.edu (cs.stanford.edu)... 171.64.64.64\n",
      "Connecting to cs.stanford.edu (cs.stanford.edu)|171.64.64.64|:21... connected.\n",
      "Logging in as anonymous ... Logged in!\n",
      "==> SYST ... done.    ==> PWD ... done.\n",
      "==> TYPE I ... done.  ==> CWD (1) /cs/cvgl ... done.\n",
      "==> SIZE Stanford_Online_Products.zip ... 3083860082\n",
      "File has already been retrieved.\n",
      "2021-04-07 19:38:01 (0.00 B/s) - ‘Stanford_Online_Products.zip’ saved [3083860082]\n",
      "\n"
     ]
    }
   ],
   "source": [
    "# download dataset\n",
    "!wget -c ftp://cs.stanford.edu/cs/cvgl/Stanford_Online_Products.zip"
   ]
  },
  {
   "cell_type": "code",
   "execution_count": 2,
   "id": "selective-graphics",
   "metadata": {},
   "outputs": [],
   "source": [
    "import os\n",
    "import fnmatch\n",
    "import shutil"
   ]
  },
  {
   "cell_type": "code",
   "execution_count": 3,
   "id": "sonic-disposition",
   "metadata": {},
   "outputs": [],
   "source": [
    "# buat folder dataset untuk menaruh dataset kita\n",
    "dir_dataset = \"./dataset\"\n",
    "if os.path.isdir(dir_dataset) == False:\n",
    "    os.mkdir(dir_dataset)"
   ]
  },
  {
   "cell_type": "code",
   "execution_count": 4,
   "id": "failing-citizenship",
   "metadata": {},
   "outputs": [
    {
     "name": "stdout",
     "output_type": "stream",
     "text": [
      "Unzip Finish!\n"
     ]
    }
   ],
   "source": [
    "# extract dataset ke folder dataset\n",
    "!unzip -nq Stanford_Online_Products.zip -d dataset/\n",
    "print(\"Unzip Finish!\")"
   ]
  },
  {
   "cell_type": "code",
   "execution_count": 5,
   "id": "northern-harrison",
   "metadata": {},
   "outputs": [
    {
     "name": "stdout",
     "output_type": "stream",
     "text": [
      "bicycle_final\t\tEbay_final.txt\t  lamp_final\t  stapler_final\r\n",
      "bicycle_final.txt\tEbay_info.txt\t  lamp_final.txt  stapler_final.txt\r\n",
      "cabinet_final\t\tEbay_test.txt\t  LICENSE\t  table_final\r\n",
      "cabinet_final.txt\tEbay_train.txt\t  mug_final\t  table_final.txt\r\n",
      "chair_final\t\tfan_final\t  mug_final.txt   toaster_final\r\n",
      "chair_final.txt\t\tfan_final.txt\t  README\t  toaster_final.txt\r\n",
      "coffee_maker_final\tkettle_final\t  sofa_final\r\n",
      "coffee_maker_final.txt\tkettle_final.txt  sofa_final.txt\r\n"
     ]
    }
   ],
   "source": [
    "# cek isi folder dataset\n",
    "!ls dataset/Stanford_Online_Products/"
   ]
  },
  {
   "cell_type": "code",
   "execution_count": 6,
   "id": "outstanding-senegal",
   "metadata": {},
   "outputs": [],
   "source": [
    "def create_im_dict(im_directory):\n",
    "    pattern = \"*.JPG\"\n",
    "    im_dict = dict()\n",
    "    \n",
    "    for path, subdirs, files in os.walk(im_directory):\n",
    "        for x in subdirs:\n",
    "            im_dict[x] = list()\n",
    "        for name in files:\n",
    "            if fnmatch.fnmatch(name, pattern):\n",
    "                get_dir = path.split(\"/\")[-1]\n",
    "                im_dict[get_dir].append(name)\n",
    "                \n",
    "    for k in list(im_dict.keys()):\n",
    "        print(k, len(im_dict[k]))\n",
    "    \n",
    "    return im_dict"
   ]
  },
  {
   "cell_type": "code",
   "execution_count": 7,
   "id": "green-moore",
   "metadata": {},
   "outputs": [],
   "source": [
    "# buat dictionary di mana key = folder_name, value = nama_file.jpg\n",
    "dir_src = \"dataset/Stanford_Online_Products/\""
   ]
  },
  {
   "cell_type": "code",
   "execution_count": 8,
   "id": "noted-responsibility",
   "metadata": {},
   "outputs": [
    {
     "name": "stdout",
     "output_type": "stream",
     "text": [
      "kettle_final 10114\n",
      "bicycle_final 8313\n",
      "toaster_final 8712\n",
      "stapler_final 8386\n",
      "sofa_final 7431\n",
      "chair_final 12071\n",
      "coffee_maker_final 9698\n",
      "mug_final 13626\n",
      "fan_final 5996\n",
      "table_final 11108\n",
      "lamp_final 12530\n",
      "cabinet_final 12068\n"
     ]
    }
   ],
   "source": [
    "im_dict_origin = create_im_dict(dir_src)"
   ]
  },
  {
   "cell_type": "code",
   "execution_count": 9,
   "id": "related-reduction",
   "metadata": {},
   "outputs": [],
   "source": [
    "def create_subset(im_dict, dir_src, dir_dst, idx_start, idx_stop):\n",
    "\n",
    "    for k in list(im_dict.keys()):\n",
    "        for i in range(idx_start, idx_stop):\n",
    "            src = os.path.join(dir_src, str(k + \"/\" + im_dict[k][i]))\n",
    "            dst = os.path.join(dir_dst, k)\n",
    "\n",
    "            if os.path.isdir(os.path.join(dir_dst, k)) == False:\n",
    "                os.mkdir(os.path.join(dir_dst, k))\n",
    "\n",
    "            shutil.copy(src, dst)"
   ]
  },
  {
   "cell_type": "code",
   "execution_count": 10,
   "id": "blind-nigeria",
   "metadata": {},
   "outputs": [],
   "source": [
    "dir_subset = \"dataset/subset\"\n",
    "dir_train = \"dataset/subset/train\"\n",
    "dir_validation = \"dataset/subset/validation\"\n",
    "dir_test = \"dataset/subset/test\"\n",
    "\n",
    "for new_dir in [dir_subset, dir_train, dir_validation, dir_test]:\n",
    "    if os.path.isdir(new_dir) == False:\n",
    "        os.mkdir(new_dir)\n",
    "\n",
    "create_subset(im_dict_origin, dir_src, dir_train, 0, 1000)\n",
    "create_subset(im_dict_origin, dir_src, dir_validation, 1000, 1100)\n",
    "create_subset(im_dict_origin, dir_src, dir_test, 1100, 1200)"
   ]
  },
  {
   "cell_type": "code",
   "execution_count": 11,
   "id": "fewer-fantasy",
   "metadata": {},
   "outputs": [
    {
     "name": "stdout",
     "output_type": "stream",
     "text": [
      "kettle_final 1000\n",
      "bicycle_final 1000\n",
      "toaster_final 1000\n",
      "stapler_final 1000\n",
      "sofa_final 1000\n",
      "chair_final 1000\n",
      "coffee_maker_final 1000\n",
      "mug_final 1000\n",
      "fan_final 1000\n",
      "table_final 1000\n",
      "lamp_final 1000\n",
      "cabinet_final 1000\n"
     ]
    }
   ],
   "source": [
    "im_dict_train = create_im_dict(dir_train)"
   ]
  },
  {
   "cell_type": "code",
   "execution_count": 12,
   "id": "dress-container",
   "metadata": {},
   "outputs": [
    {
     "name": "stdout",
     "output_type": "stream",
     "text": [
      "kettle_final 100\n",
      "bicycle_final 100\n",
      "toaster_final 100\n",
      "stapler_final 100\n",
      "sofa_final 100\n",
      "chair_final 100\n",
      "coffee_maker_final 100\n",
      "mug_final 100\n",
      "fan_final 100\n",
      "table_final 100\n",
      "lamp_final 100\n",
      "cabinet_final 100\n"
     ]
    }
   ],
   "source": [
    "im_dict_validation = create_im_dict(dir_validation)"
   ]
  },
  {
   "cell_type": "code",
   "execution_count": 13,
   "id": "athletic-patient",
   "metadata": {},
   "outputs": [
    {
     "name": "stdout",
     "output_type": "stream",
     "text": [
      "kettle_final 100\n",
      "bicycle_final 100\n",
      "toaster_final 100\n",
      "stapler_final 100\n",
      "sofa_final 100\n",
      "chair_final 100\n",
      "coffee_maker_final 100\n",
      "mug_final 100\n",
      "fan_final 100\n",
      "table_final 100\n",
      "lamp_final 100\n",
      "cabinet_final 100\n"
     ]
    }
   ],
   "source": [
    "im_dict_test = create_im_dict(dir_test)"
   ]
  }
 ],
 "metadata": {
  "kernelspec": {
   "display_name": "Python 3",
   "language": "python",
   "name": "python3"
  },
  "language_info": {
   "codemirror_mode": {
    "name": "ipython",
    "version": 3
   },
   "file_extension": ".py",
   "mimetype": "text/x-python",
   "name": "python",
   "nbconvert_exporter": "python",
   "pygments_lexer": "ipython3",
   "version": "3.7.7"
  },
  "toc": {
   "base_numbering": 1,
   "nav_menu": {},
   "number_sections": true,
   "sideBar": true,
   "skip_h1_title": false,
   "title_cell": "Table of Contents",
   "title_sidebar": "Contents",
   "toc_cell": false,
   "toc_position": {},
   "toc_section_display": true,
   "toc_window_display": false
  }
 },
 "nbformat": 4,
 "nbformat_minor": 5
}
