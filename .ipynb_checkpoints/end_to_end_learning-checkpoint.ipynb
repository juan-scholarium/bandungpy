{
 "cells": [
  {
   "cell_type": "markdown",
   "id": "several-sewing",
   "metadata": {},
   "source": [
    "# Object Classification"
   ]
  },
  {
   "cell_type": "code",
   "execution_count": 1,
   "id": "generic-candy",
   "metadata": {},
   "outputs": [],
   "source": [
    "%reload_ext autoreload\n",
    "%autoreload 2\n",
    "%matplotlib inline"
   ]
  },
  {
   "cell_type": "code",
   "execution_count": 2,
   "id": "looking-little",
   "metadata": {},
   "outputs": [],
   "source": [
    "import tensorflow as tf\n",
    "from tensorflow import keras\n",
    "from tensorflow.keras.applications import Xception\n",
    "from tensorflow.keras.applications.xception import preprocess_input\n",
    "from tensorflow.keras import models, layers, utils\n",
    "from tensorflow.keras import losses, metrics, optimizers\n",
    "from tensorflow.keras.preprocessing import image\n",
    "\n",
    "from sklearn.metrics import classification_report, confusion_matrix\n",
    "\n",
    "from matplotlib import pyplot as plt\n",
    "\n",
    "import numpy as np"
   ]
  },
  {
   "cell_type": "code",
   "execution_count": 3,
   "id": "complicated-handbook",
   "metadata": {},
   "outputs": [],
   "source": [
    "img_size = (299, 299, 3)\n",
    "dir_img_train = \"dataset/subset/train/\"\n",
    "dir_img_validation = \"dataset/subset/validation/\"\n",
    "dir_img_test = \"dataset/subset/test/\"\n",
    "batch_size = 16\n",
    "lr = 1e-4\n",
    "epoch = 22"
   ]
  },
  {
   "cell_type": "markdown",
   "id": "labeled-green",
   "metadata": {},
   "source": [
    "## Prepare Dataset"
   ]
  },
  {
   "cell_type": "code",
   "execution_count": 4,
   "id": "placed-valentine",
   "metadata": {},
   "outputs": [],
   "source": [
    "train_datagen = image.ImageDataGenerator(rescale=1. / 255,\n",
    "                                         rotation_range=40,\n",
    "                                         width_shift_range=0.2,\n",
    "                                         height_shift_range=0.2,\n",
    "                                         shear_range=0.2,\n",
    "                                         zoom_range=0.2,\n",
    "                                         horizontal_flip=True,\n",
    "                                         fill_mode='nearest')\n",
    "\n",
    "# Note that the validation data should not be augmented!\n",
    "test_datagen = image.ImageDataGenerator(rescale=1. / 255)"
   ]
  },
  {
   "cell_type": "code",
   "execution_count": 5,
   "id": "local-increase",
   "metadata": {},
   "outputs": [
    {
     "name": "stdout",
     "output_type": "stream",
     "text": [
      "Found 12000 images belonging to 12 classes.\n",
      "Found 1200 images belonging to 12 classes.\n",
      "Found 1200 images belonging to 12 classes.\n"
     ]
    }
   ],
   "source": [
    "train_generator = train_datagen.flow_from_directory(\n",
    "    # target folder yang berisi kumpulan citra\n",
    "    dir_img_train,\n",
    "    # semua citra diubah ukurannya menjadi 299 x 299\n",
    "    target_size=img_size[:2],\n",
    "    batch_size=batch_size,\n",
    "    # class_mode categorical harus disesuaikan dengan fungsi loss\n",
    "    # Karena fungsi loss yang digunakan adalah categorical crossentropy\n",
    "    # maka class_mode = categorical\n",
    "    class_mode=\"categorical\",\n",
    "    shuffle=True,\n",
    "    seed=1234)\n",
    "\n",
    "validation_generator = test_datagen.flow_from_directory(\n",
    "    dir_img_validation,\n",
    "    target_size=img_size[:2],\n",
    "    batch_size=batch_size,\n",
    "    class_mode=\"categorical\",\n",
    "    shuffle=True,\n",
    "    seed=1234)\n",
    "\n",
    "test_generator = test_datagen.flow_from_directory(dir_img_test,\n",
    "                                                  target_size=img_size[:2],\n",
    "                                                  batch_size=batch_size,\n",
    "                                                  class_mode=\"categorical\",\n",
    "                                                  shuffle=True,\n",
    "                                                  seed=1234)"
   ]
  },
  {
   "cell_type": "markdown",
   "id": "economic-anaheim",
   "metadata": {},
   "source": [
    "## Mendefinisikan arsitektur model"
   ]
  },
  {
   "cell_type": "code",
   "execution_count": 6,
   "id": "available-ribbon",
   "metadata": {},
   "outputs": [],
   "source": [
    "def create_model():\n",
    "    conv_base = Xception(weights=None, include_top=False, input_shape=img_size)\n",
    "\n",
    "    conv_base.trainable = True\n",
    "\n",
    "    input_layer = keras.Input(shape=img_size)\n",
    "    x = conv_base(input_layer)\n",
    "    x1 = layers.GlobalAveragePooling2D()(x)\n",
    "    x2 = layers.GlobalMaxPooling2D()(x)\n",
    "    x = layers.Concatenate()([x1, x2])\n",
    "    x = layers.BatchNormalization()(x)\n",
    "    x = layers.Dropout(0.5)(x)\n",
    "    x = layers.Dense(512, activation=\"relu\")(x)\n",
    "    x = layers.BatchNormalization()(x)\n",
    "    x = layers.Dropout(0.5)(x)\n",
    "    output_layer = layers.Dense(12, activation=\"softmax\")(x)\n",
    "\n",
    "    model = keras.Model(inputs=input_layer, outputs=output_layer)\n",
    "\n",
    "    return conv_base, model"
   ]
  },
  {
   "cell_type": "code",
   "execution_count": 7,
   "id": "binary-potter",
   "metadata": {},
   "outputs": [
    {
     "name": "stdout",
     "output_type": "stream",
     "text": [
      "INFO:tensorflow:Using MirroredStrategy with devices ('/job:localhost/replica:0/task:0/device:GPU:0',)\n",
      "Number of devices: 1\n"
     ]
    }
   ],
   "source": [
    "strategy = tf.distribute.MirroredStrategy()\n",
    "print(\"Number of devices: {}\".format(strategy.num_replicas_in_sync))"
   ]
  },
  {
   "cell_type": "code",
   "execution_count": 8,
   "id": "rolled-communications",
   "metadata": {},
   "outputs": [
    {
     "name": "stdout",
     "output_type": "stream",
     "text": [
      "INFO:tensorflow:Reduce to /job:localhost/replica:0/task:0/device:CPU:0 then broadcast to ('/job:localhost/replica:0/task:0/device:CPU:0',).\n",
      "INFO:tensorflow:Reduce to /job:localhost/replica:0/task:0/device:CPU:0 then broadcast to ('/job:localhost/replica:0/task:0/device:CPU:0',).\n",
      "INFO:tensorflow:Reduce to /job:localhost/replica:0/task:0/device:CPU:0 then broadcast to ('/job:localhost/replica:0/task:0/device:CPU:0',).\n",
      "INFO:tensorflow:Reduce to /job:localhost/replica:0/task:0/device:CPU:0 then broadcast to ('/job:localhost/replica:0/task:0/device:CPU:0',).\n",
      "INFO:tensorflow:Reduce to /job:localhost/replica:0/task:0/device:CPU:0 then broadcast to ('/job:localhost/replica:0/task:0/device:CPU:0',).\n",
      "INFO:tensorflow:Reduce to /job:localhost/replica:0/task:0/device:CPU:0 then broadcast to ('/job:localhost/replica:0/task:0/device:CPU:0',).\n",
      "INFO:tensorflow:Reduce to /job:localhost/replica:0/task:0/device:CPU:0 then broadcast to ('/job:localhost/replica:0/task:0/device:CPU:0',).\n",
      "INFO:tensorflow:Reduce to /job:localhost/replica:0/task:0/device:CPU:0 then broadcast to ('/job:localhost/replica:0/task:0/device:CPU:0',).\n",
      "INFO:tensorflow:Reduce to /job:localhost/replica:0/task:0/device:CPU:0 then broadcast to ('/job:localhost/replica:0/task:0/device:CPU:0',).\n",
      "INFO:tensorflow:Reduce to /job:localhost/replica:0/task:0/device:CPU:0 then broadcast to ('/job:localhost/replica:0/task:0/device:CPU:0',).\n"
     ]
    }
   ],
   "source": [
    "# Open a strategy scope.\n",
    "with strategy.scope():\n",
    "    # Everything that creates variables should be under the strategy scope.\n",
    "    # In general this is only model construction & `compile()`.\n",
    "    conv_base, model = create_model()\n",
    "    model.compile(loss=losses.CategoricalCrossentropy(),\n",
    "                  optimizer=optimizers.Adam(learning_rate=lr),\n",
    "                  metrics=[metrics.CategoricalAccuracy()])"
   ]
  },
  {
   "cell_type": "code",
   "execution_count": 9,
   "id": "molecular-princeton",
   "metadata": {},
   "outputs": [
    {
     "name": "stdout",
     "output_type": "stream",
     "text": [
      "Model: \"model\"\n",
      "__________________________________________________________________________________________________\n",
      "Layer (type)                    Output Shape         Param #     Connected to                     \n",
      "==================================================================================================\n",
      "input_2 (InputLayer)            [(None, 299, 299, 3) 0                                            \n",
      "__________________________________________________________________________________________________\n",
      "xception (Model)                (None, 10, 10, 2048) 20861480    input_2[0][0]                    \n",
      "__________________________________________________________________________________________________\n",
      "global_average_pooling2d (Globa (None, 2048)         0           xception[1][0]                   \n",
      "__________________________________________________________________________________________________\n",
      "global_max_pooling2d (GlobalMax (None, 2048)         0           xception[1][0]                   \n",
      "__________________________________________________________________________________________________\n",
      "concatenate (Concatenate)       (None, 4096)         0           global_average_pooling2d[0][0]   \n",
      "                                                                 global_max_pooling2d[0][0]       \n",
      "__________________________________________________________________________________________________\n",
      "batch_normalization_4 (BatchNor (None, 4096)         16384       concatenate[0][0]                \n",
      "__________________________________________________________________________________________________\n",
      "dropout (Dropout)               (None, 4096)         0           batch_normalization_4[0][0]      \n",
      "__________________________________________________________________________________________________\n",
      "dense (Dense)                   (None, 512)          2097664     dropout[0][0]                    \n",
      "__________________________________________________________________________________________________\n",
      "batch_normalization_5 (BatchNor (None, 512)          2048        dense[0][0]                      \n",
      "__________________________________________________________________________________________________\n",
      "dropout_1 (Dropout)             (None, 512)          0           batch_normalization_5[0][0]      \n",
      "__________________________________________________________________________________________________\n",
      "dense_1 (Dense)                 (None, 12)           6156        dropout_1[0][0]                  \n",
      "==================================================================================================\n",
      "Total params: 22,983,732\n",
      "Trainable params: 22,919,988\n",
      "Non-trainable params: 63,744\n",
      "__________________________________________________________________________________________________\n"
     ]
    }
   ],
   "source": [
    "model.summary()"
   ]
  },
  {
   "cell_type": "code",
   "execution_count": 10,
   "id": "infrared-involvement",
   "metadata": {},
   "outputs": [
    {
     "data": {
      "image/png": "[encoded data removed]",
      "text/plain": [
       "<IPython.core.display.Image object>"
      ]
     },
     "execution_count": 10,
     "metadata": {},
     "output_type": "execute_result"
    }
   ],
   "source": [
    "utils.plot_model(model, show_layer_names=True, show_shapes=True)"
   ]
  },
  {
   "cell_type": "markdown",
   "id": "missing-joyce",
   "metadata": {},
   "source": [
    "## Training Model"
   ]
  },
  {
   "cell_type": "code",
   "execution_count": 11,
   "id": "inside-jamaica",
   "metadata": {
    "scrolled": true
   },
   "outputs": [
    {
     "name": "stdout",
     "output_type": "stream",
     "text": [
      "WARNING:tensorflow:sample_weight modes were coerced from\n",
      "  ...\n",
      "    to  \n",
      "  ['...']\n",
      "WARNING:tensorflow:sample_weight modes were coerced from\n",
      "  ...\n",
      "    to  \n",
      "  ['...']\n",
      "Train for 750 steps, validate for 75 steps\n",
      "Epoch 1/22\n",
      "750/750 [==============================] - 432s 576ms/step - loss: 3.1935 - categorical_accuracy: 0.1427 - val_loss: 2.4319 - val_categorical_accuracy: 0.1658\n",
      "Epoch 2/22\n",
      "750/750 [==============================] - 422s 562ms/step - loss: 2.9104 - categorical_accuracy: 0.1617 - val_loss: 3.2879 - val_categorical_accuracy: 0.2325\n",
      "Epoch 3/22\n",
      "750/750 [==============================] - 420s 560ms/step - loss: 2.7776 - categorical_accuracy: 0.1814 - val_loss: 2.3044 - val_categorical_accuracy: 0.2792\n",
      "Epoch 4/22\n",
      "750/750 [==============================] - 420s 560ms/step - loss: 2.6590 - categorical_accuracy: 0.1949 - val_loss: 2.6018 - val_categorical_accuracy: 0.2492\n",
      "Epoch 5/22\n",
      "750/750 [==============================] - 420s 560ms/step - loss: 2.5720 - categorical_accuracy: 0.2150 - val_loss: 3.3845 - val_categorical_accuracy: 0.2708\n",
      "Epoch 6/22\n",
      "750/750 [==============================] - 421s 561ms/step - loss: 2.5060 - categorical_accuracy: 0.2292 - val_loss: 2.2745 - val_categorical_accuracy: 0.2875\n",
      "Epoch 7/22\n",
      "750/750 [==============================] - 421s 561ms/step - loss: 2.4479 - categorical_accuracy: 0.2324 - val_loss: 2.3426 - val_categorical_accuracy: 0.2942\n",
      "Epoch 8/22\n",
      "750/750 [==============================] - 421s 561ms/step - loss: 2.3821 - categorical_accuracy: 0.2517 - val_loss: 4.1313 - val_categorical_accuracy: 0.2583\n",
      "Epoch 9/22\n",
      "750/750 [==============================] - 421s 561ms/step - loss: 2.2954 - categorical_accuracy: 0.2699 - val_loss: 2.1408 - val_categorical_accuracy: 0.3017\n",
      "Epoch 10/22\n",
      "750/750 [==============================] - 421s 561ms/step - loss: 2.2265 - categorical_accuracy: 0.2875 - val_loss: 2.1961 - val_categorical_accuracy: 0.3492\n",
      "Epoch 11/22\n",
      "750/750 [==============================] - 421s 562ms/step - loss: 2.1534 - categorical_accuracy: 0.3086 - val_loss: 2.0695 - val_categorical_accuracy: 0.3233\n",
      "Epoch 12/22\n",
      "750/750 [==============================] - 421s 562ms/step - loss: 2.0793 - categorical_accuracy: 0.3257 - val_loss: 1.9675 - val_categorical_accuracy: 0.3392\n",
      "Epoch 13/22\n",
      "750/750 [==============================] - 421s 561ms/step - loss: 2.0075 - categorical_accuracy: 0.3503 - val_loss: 1.8494 - val_categorical_accuracy: 0.4050\n",
      "Epoch 14/22\n",
      "750/750 [==============================] - 421s 562ms/step - loss: 1.9309 - categorical_accuracy: 0.3679 - val_loss: 1.8885 - val_categorical_accuracy: 0.3875\n",
      "Epoch 15/22\n",
      "750/750 [==============================] - 422s 562ms/step - loss: 1.8673 - categorical_accuracy: 0.3919 - val_loss: 1.9305 - val_categorical_accuracy: 0.4150\n",
      "Epoch 16/22\n",
      "750/750 [==============================] - 421s 561ms/step - loss: 1.7970 - categorical_accuracy: 0.4123 - val_loss: 1.6411 - val_categorical_accuracy: 0.4642\n",
      "Epoch 17/22\n",
      "750/750 [==============================] - 422s 562ms/step - loss: 1.7431 - categorical_accuracy: 0.4276 - val_loss: 1.7958 - val_categorical_accuracy: 0.4308\n",
      "Epoch 18/22\n",
      "750/750 [==============================] - 422s 562ms/step - loss: 1.6736 - categorical_accuracy: 0.4507 - val_loss: 1.6975 - val_categorical_accuracy: 0.4717\n",
      "Epoch 19/22\n",
      "750/750 [==============================] - 421s 562ms/step - loss: 1.6188 - categorical_accuracy: 0.4664 - val_loss: 1.5942 - val_categorical_accuracy: 0.4808\n",
      "Epoch 20/22\n",
      "750/750 [==============================] - 421s 562ms/step - loss: 1.5625 - categorical_accuracy: 0.4811 - val_loss: 1.6113 - val_categorical_accuracy: 0.4892\n",
      "Epoch 21/22\n",
      "750/750 [==============================] - 421s 562ms/step - loss: 1.5119 - categorical_accuracy: 0.4967 - val_loss: 1.5676 - val_categorical_accuracy: 0.4908\n",
      "Epoch 22/22\n",
      "750/750 [==============================] - 422s 562ms/step - loss: 1.4719 - categorical_accuracy: 0.5148 - val_loss: 1.7127 - val_categorical_accuracy: 0.4633\n",
      "CPU times: user 1h 23min 8s, sys: 1min 36s, total: 1h 24min 44s\n",
      "Wall time: 2h 34min 34s\n"
     ]
    }
   ],
   "source": [
    "%%time\n",
    "history = model.fit(train_generator,\n",
    "                    epochs=epoch,\n",
    "                    validation_data=validation_generator,\n",
    "                    verbose=1)"
   ]
  },
  {
   "cell_type": "code",
   "execution_count": 12,
   "id": "veterinary-medicaid",
   "metadata": {},
   "outputs": [
    {
     "data": {
      "text/plain": [
       "['loss', 'categorical_accuracy']"
      ]
     },
     "execution_count": 12,
     "metadata": {},
     "output_type": "execute_result"
    }
   ],
   "source": [
    "model.metrics_names"
   ]
  },
  {
   "cell_type": "code",
   "execution_count": 13,
   "id": "gorgeous-empty",
   "metadata": {},
   "outputs": [
    {
     "data": {
      "image/png": "[encoded data removed]",
      "text/plain": [
       "<Figure size 1080x360 with 2 Axes>"
      ]
     },
     "metadata": {
      "needs_background": "light"
     },
     "output_type": "display_data"
    }
   ],
   "source": [
    "accuracy = history.history['categorical_accuracy']\n",
    "val_accuracy = history.history['val_categorical_accuracy']\n",
    "loss = history.history['loss']\n",
    "val_loss = history.history['val_loss']\n",
    "\n",
    "epochs = range(len(accuracy))\n",
    "\n",
    "plt.figure(figsize=(15, 5))\n",
    "plt.subplot(1, 2, 1)\n",
    "plt.plot(epochs, accuracy, label='Training accuracy')\n",
    "plt.plot(epochs, val_accuracy, label='Validation accuracy')\n",
    "plt.title('Training and validation accuracyuracy')\n",
    "plt.legend()\n",
    "\n",
    "plt.subplot(1, 2, 2)\n",
    "plt.plot(epochs, loss, label='Training loss')\n",
    "plt.plot(epochs, val_loss, label='Validation loss')\n",
    "plt.title('Training and validation loss')\n",
    "plt.legend()\n",
    "\n",
    "plt.show()"
   ]
  },
  {
   "cell_type": "markdown",
   "id": "sharp-touch",
   "metadata": {},
   "source": [
    "## Evaluate Model"
   ]
  },
  {
   "cell_type": "code",
   "execution_count": 14,
   "id": "likely-offset",
   "metadata": {},
   "outputs": [
    {
     "name": "stdout",
     "output_type": "stream",
     "text": [
      "WARNING:tensorflow:sample_weight modes were coerced from\n",
      "  ...\n",
      "    to  \n",
      "  ['...']\n",
      "75/75 [==============================] - 10s 133ms/step - loss: 1.5711 - categorical_accuracy: 0.4858\n"
     ]
    },
    {
     "data": {
      "text/plain": [
       "[1.5710637434323629, 0.48583335]"
      ]
     },
     "execution_count": 14,
     "metadata": {},
     "output_type": "execute_result"
    }
   ],
   "source": [
    "model.evaluate(test_generator, verbose=1)"
   ]
  },
  {
   "cell_type": "code",
   "execution_count": 15,
   "id": "linear-indianapolis",
   "metadata": {},
   "outputs": [],
   "source": [
    "y_true = list()\n",
    "for idx in range(len(test_generator.index_array)):\n",
    "    img_idx = test_generator.index_array[idx]\n",
    "    y_true.append(test_generator.labels[img_idx])"
   ]
  },
  {
   "cell_type": "code",
   "execution_count": 16,
   "id": "tracked-morris",
   "metadata": {},
   "outputs": [
    {
     "name": "stdout",
     "output_type": "stream",
     "text": [
      "75/75 [==============================] - 10s 130ms/step\n"
     ]
    }
   ],
   "source": [
    "y_pred_prob = model.predict(test_generator, verbose=1)\n",
    "y_pred = list()\n",
    "\n",
    "for idx in range(len(y_pred_prob)):\n",
    "    y_pred.append(np.argmax(y_pred_prob[idx]))"
   ]
  },
  {
   "cell_type": "code",
   "execution_count": 17,
   "id": "heated-sydney",
   "metadata": {},
   "outputs": [
    {
     "name": "stdout",
     "output_type": "stream",
     "text": [
      "              precision    recall  f1-score   support\n",
      "\n",
      "     bicycle       0.92      0.44      0.59       100\n",
      "     cabinet       0.28      0.80      0.42       100\n",
      "       chair       0.47      0.22      0.30       100\n",
      " coffe_maker       0.52      0.46      0.49       100\n",
      "         fan       0.47      0.73      0.57       100\n",
      "      kettle       0.86      0.32      0.47       100\n",
      "        lamp       0.45      0.54      0.49       100\n",
      "         mug       0.61      0.70      0.65       100\n",
      "        sofa       0.75      0.61      0.67       100\n",
      "     stapler       0.60      0.45      0.51       100\n",
      "       table       0.27      0.23      0.25       100\n",
      "     toaster       0.51      0.33      0.40       100\n",
      "\n",
      "    accuracy                           0.49      1200\n",
      "   macro avg       0.56      0.49      0.48      1200\n",
      "weighted avg       0.56      0.49      0.48      1200\n",
      "\n"
     ]
    }
   ],
   "source": [
    "print(\n",
    "    classification_report(y_true,\n",
    "                          y_pred,\n",
    "                          target_names=[\n",
    "                              'bicycle', 'cabinet', 'chair', 'coffe_maker',\n",
    "                              'fan', 'kettle', 'lamp', 'mug', 'sofa',\n",
    "                              'stapler', 'table', 'toaster'\n",
    "                          ]))"
   ]
  },
  {
   "cell_type": "code",
   "execution_count": 18,
   "id": "dedicated-mineral",
   "metadata": {},
   "outputs": [],
   "source": [
    "model.save(\"end_to_end_learning.h5\")"
   ]
  }
 ],
 "metadata": {
  "kernelspec": {
   "display_name": "Python 3",
   "language": "python",
   "name": "python3"
  },
  "language_info": {
   "codemirror_mode": {
    "name": "ipython",
    "version": 3
   },
   "file_extension": ".py",
   "mimetype": "text/x-python",
   "name": "python",
   "nbconvert_exporter": "python",
   "pygments_lexer": "ipython3",
   "version": "3.7.7"
  },
  "toc": {
   "base_numbering": 1,
   "nav_menu": {},
   "number_sections": true,
   "sideBar": true,
   "skip_h1_title": true,
   "title_cell": "Table of Contents",
   "title_sidebar": "Contents",
   "toc_cell": false,
   "toc_position": {
    "height": "calc(100% - 180px)",
    "left": "10px",
    "top": "150px",
    "width": "369.6px"
   },
   "toc_section_display": true,
   "toc_window_display": true
  }
 },
 "nbformat": 4,
 "nbformat_minor": 5
}
