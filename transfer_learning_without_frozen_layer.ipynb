{
 "cells": [
  {
   "cell_type": "markdown",
   "id": "hundred-outreach",
   "metadata": {},
   "source": [
    "# Object Classification"
   ]
  },
  {
   "cell_type": "code",
   "execution_count": 1,
   "id": "cultural-bangladesh",
   "metadata": {},
   "outputs": [],
   "source": [
    "%reload_ext autoreload\n",
    "%autoreload 2\n",
    "%matplotlib inline"
   ]
  },
  {
   "cell_type": "code",
   "execution_count": 2,
   "id": "spare-details",
   "metadata": {},
   "outputs": [],
   "source": [
    "import tensorflow as tf\n",
    "from tensorflow import keras\n",
    "from tensorflow.keras.applications import Xception\n",
    "from tensorflow.keras.applications.xception import preprocess_input\n",
    "from tensorflow.keras import models, layers, utils\n",
    "from tensorflow.keras import losses, metrics, optimizers\n",
    "from tensorflow.keras.preprocessing import image\n",
    "\n",
    "from sklearn.metrics import classification_report, confusion_matrix\n",
    "\n",
    "from matplotlib import pyplot as plt\n",
    "\n",
    "import numpy as np"
   ]
  },
  {
   "cell_type": "code",
   "execution_count": 3,
   "id": "educational-clothing",
   "metadata": {},
   "outputs": [],
   "source": [
    "img_size = (299, 299, 3)\n",
    "dir_img_train = \"dataset/subset/train/\"\n",
    "dir_img_validation = \"dataset/subset/validation/\"\n",
    "dir_img_test = \"dataset/subset/test/\"\n",
    "batch_size = 16\n",
    "lr = 1e-4\n",
    "epoch = 22"
   ]
  },
  {
   "cell_type": "markdown",
   "id": "interim-driving",
   "metadata": {},
   "source": [
    "## Prepare Dataset"
   ]
  },
  {
   "cell_type": "code",
   "execution_count": 4,
   "id": "matched-bidding",
   "metadata": {},
   "outputs": [],
   "source": [
    "train_datagen = image.ImageDataGenerator(rescale=1. / 255,\n",
    "                                         rotation_range=40,\n",
    "                                         width_shift_range=0.2,\n",
    "                                         height_shift_range=0.2,\n",
    "                                         shear_range=0.2,\n",
    "                                         zoom_range=0.2,\n",
    "                                         horizontal_flip=True,\n",
    "                                         fill_mode='nearest')\n",
    "\n",
    "# Note that the validation data should not be augmented!\n",
    "test_datagen = image.ImageDataGenerator(rescale=1. / 255)"
   ]
  },
  {
   "cell_type": "code",
   "execution_count": 5,
   "id": "right-twist",
   "metadata": {},
   "outputs": [
    {
     "name": "stdout",
     "output_type": "stream",
     "text": [
      "Found 12000 images belonging to 12 classes.\n",
      "Found 1200 images belonging to 12 classes.\n",
      "Found 1200 images belonging to 12 classes.\n"
     ]
    }
   ],
   "source": [
    "train_generator = train_datagen.flow_from_directory(\n",
    "    # target folder yang berisi kumpulan citra\n",
    "    dir_img_train,\n",
    "    # semua citra diubah ukurannya menjadi 299 x 299\n",
    "    target_size=img_size[:2],\n",
    "    batch_size=batch_size,\n",
    "    # class_mode categorical harus disesuaikan dengan fungsi loss\n",
    "    # Karena fungsi loss yang digunakan adalah categorical crossentropy\n",
    "    # maka class_mode = categorical\n",
    "    class_mode=\"categorical\",\n",
    "    shuffle=True,\n",
    "    seed=1234)\n",
    "\n",
    "validation_generator = test_datagen.flow_from_directory(\n",
    "    dir_img_validation,\n",
    "    target_size=img_size[:2],\n",
    "    batch_size=batch_size,\n",
    "    class_mode=\"categorical\",\n",
    "    shuffle=True,\n",
    "    seed=1234)\n",
    "\n",
    "test_generator = test_datagen.flow_from_directory(dir_img_test,\n",
    "                                                  target_size=img_size[:2],\n",
    "                                                  batch_size=batch_size,\n",
    "                                                  class_mode=\"categorical\",\n",
    "                                                  shuffle=True,\n",
    "                                                  seed=1234)"
   ]
  },
  {
   "cell_type": "markdown",
   "id": "experienced-greene",
   "metadata": {},
   "source": [
    "## Mendefinisikan arsitektur model"
   ]
  },
  {
   "cell_type": "code",
   "execution_count": 6,
   "id": "mounted-battlefield",
   "metadata": {},
   "outputs": [],
   "source": [
    "def create_model():\n",
    "    conv_base = Xception(weights=\"imagenet\",\n",
    "                         include_top=False,\n",
    "                         input_shape=img_size)\n",
    "\n",
    "    conv_base.trainable = True\n",
    "\n",
    "    input_layer = keras.Input(shape=img_size)\n",
    "    x = conv_base(input_layer)\n",
    "    x1 = layers.GlobalAveragePooling2D()(x)\n",
    "    x2 = layers.GlobalMaxPooling2D()(x)\n",
    "    x = layers.Concatenate()([x1, x2])\n",
    "    x = layers.BatchNormalization()(x)\n",
    "    x = layers.Dropout(0.5)(x)\n",
    "    x = layers.Dense(512, activation=\"relu\")(x)\n",
    "    x = layers.BatchNormalization()(x)\n",
    "    x = layers.Dropout(0.5)(x)\n",
    "    output_layer = layers.Dense(12, activation=\"softmax\")(x)\n",
    "\n",
    "    model = keras.Model(inputs=input_layer, outputs=output_layer)\n",
    "\n",
    "    return conv_base, model"
   ]
  },
  {
   "cell_type": "code",
   "execution_count": 7,
   "id": "resident-reviewer",
   "metadata": {},
   "outputs": [
    {
     "name": "stdout",
     "output_type": "stream",
     "text": [
      "INFO:tensorflow:Using MirroredStrategy with devices ('/job:localhost/replica:0/task:0/device:GPU:0',)\n",
      "Number of devices: 1\n"
     ]
    }
   ],
   "source": [
    "strategy = tf.distribute.MirroredStrategy()\n",
    "print(\"Number of devices: {}\".format(strategy.num_replicas_in_sync))"
   ]
  },
  {
   "cell_type": "code",
   "execution_count": 8,
   "id": "welcome-syndicate",
   "metadata": {},
   "outputs": [
    {
     "name": "stdout",
     "output_type": "stream",
     "text": [
      "INFO:tensorflow:Reduce to /job:localhost/replica:0/task:0/device:CPU:0 then broadcast to ('/job:localhost/replica:0/task:0/device:CPU:0',).\n",
      "INFO:tensorflow:Reduce to /job:localhost/replica:0/task:0/device:CPU:0 then broadcast to ('/job:localhost/replica:0/task:0/device:CPU:0',).\n",
      "INFO:tensorflow:Reduce to /job:localhost/replica:0/task:0/device:CPU:0 then broadcast to ('/job:localhost/replica:0/task:0/device:CPU:0',).\n",
      "INFO:tensorflow:Reduce to /job:localhost/replica:0/task:0/device:CPU:0 then broadcast to ('/job:localhost/replica:0/task:0/device:CPU:0',).\n",
      "INFO:tensorflow:Reduce to /job:localhost/replica:0/task:0/device:CPU:0 then broadcast to ('/job:localhost/replica:0/task:0/device:CPU:0',).\n",
      "INFO:tensorflow:Reduce to /job:localhost/replica:0/task:0/device:CPU:0 then broadcast to ('/job:localhost/replica:0/task:0/device:CPU:0',).\n",
      "INFO:tensorflow:Reduce to /job:localhost/replica:0/task:0/device:CPU:0 then broadcast to ('/job:localhost/replica:0/task:0/device:CPU:0',).\n",
      "INFO:tensorflow:Reduce to /job:localhost/replica:0/task:0/device:CPU:0 then broadcast to ('/job:localhost/replica:0/task:0/device:CPU:0',).\n",
      "INFO:tensorflow:Reduce to /job:localhost/replica:0/task:0/device:CPU:0 then broadcast to ('/job:localhost/replica:0/task:0/device:CPU:0',).\n",
      "INFO:tensorflow:Reduce to /job:localhost/replica:0/task:0/device:CPU:0 then broadcast to ('/job:localhost/replica:0/task:0/device:CPU:0',).\n"
     ]
    }
   ],
   "source": [
    "# Open a strategy scope.\n",
    "with strategy.scope():\n",
    "    # Everything that creates variables should be under the strategy scope.\n",
    "    # In general this is only model construction & `compile()`.\n",
    "    conv_base, model = create_model()\n",
    "    model.compile(loss=losses.CategoricalCrossentropy(),\n",
    "                  optimizer=optimizers.Adam(learning_rate=lr),\n",
    "                  metrics=[metrics.CategoricalAccuracy()])"
   ]
  },
  {
   "cell_type": "code",
   "execution_count": 9,
   "id": "rational-progressive",
   "metadata": {},
   "outputs": [
    {
     "name": "stdout",
     "output_type": "stream",
     "text": [
      "Model: \"model\"\n",
      "__________________________________________________________________________________________________\n",
      "Layer (type)                    Output Shape         Param #     Connected to                     \n",
      "==================================================================================================\n",
      "input_2 (InputLayer)            [(None, 299, 299, 3) 0                                            \n",
      "__________________________________________________________________________________________________\n",
      "xception (Model)                (None, 10, 10, 2048) 20861480    input_2[0][0]                    \n",
      "__________________________________________________________________________________________________\n",
      "global_average_pooling2d (Globa (None, 2048)         0           xception[1][0]                   \n",
      "__________________________________________________________________________________________________\n",
      "global_max_pooling2d (GlobalMax (None, 2048)         0           xception[1][0]                   \n",
      "__________________________________________________________________________________________________\n",
      "concatenate (Concatenate)       (None, 4096)         0           global_average_pooling2d[0][0]   \n",
      "                                                                 global_max_pooling2d[0][0]       \n",
      "__________________________________________________________________________________________________\n",
      "batch_normalization_4 (BatchNor (None, 4096)         16384       concatenate[0][0]                \n",
      "__________________________________________________________________________________________________\n",
      "dropout (Dropout)               (None, 4096)         0           batch_normalization_4[0][0]      \n",
      "__________________________________________________________________________________________________\n",
      "dense (Dense)                   (None, 512)          2097664     dropout[0][0]                    \n",
      "__________________________________________________________________________________________________\n",
      "batch_normalization_5 (BatchNor (None, 512)          2048        dense[0][0]                      \n",
      "__________________________________________________________________________________________________\n",
      "dropout_1 (Dropout)             (None, 512)          0           batch_normalization_5[0][0]      \n",
      "__________________________________________________________________________________________________\n",
      "dense_1 (Dense)                 (None, 12)           6156        dropout_1[0][0]                  \n",
      "==================================================================================================\n",
      "Total params: 22,983,732\n",
      "Trainable params: 22,919,988\n",
      "Non-trainable params: 63,744\n",
      "__________________________________________________________________________________________________\n"
     ]
    }
   ],
   "source": [
    "model.summary()"
   ]
  },
  {
   "cell_type": "code",
   "execution_count": 10,
   "id": "local-mouse",
   "metadata": {},
   "outputs": [
    {
     "data": {
      "image/png": "[encoded data removed]",
      "text/plain": [
       "<IPython.core.display.Image object>"
      ]
     },
     "execution_count": 10,
     "metadata": {},
     "output_type": "execute_result"
    }
   ],
   "source": [
    "utils.plot_model(model, show_layer_names=True, show_shapes=True)"
   ]
  },
  {
   "cell_type": "markdown",
   "id": "institutional-comparison",
   "metadata": {},
   "source": [
    "## Training Model"
   ]
  },
  {
   "cell_type": "code",
   "execution_count": 11,
   "id": "intelligent-bhutan",
   "metadata": {
    "scrolled": true
   },
   "outputs": [
    {
     "name": "stdout",
     "output_type": "stream",
     "text": [
      "WARNING:tensorflow:sample_weight modes were coerced from\n",
      "  ...\n",
      "    to  \n",
      "  ['...']\n",
      "WARNING:tensorflow:sample_weight modes were coerced from\n",
      "  ...\n",
      "    to  \n",
      "  ['...']\n",
      "Train for 750 steps, validate for 75 steps\n",
      "Epoch 1/22\n",
      "750/750 [==============================] - 431s 575ms/step - loss: 1.5976 - categorical_accuracy: 0.5695 - val_loss: 0.7478 - val_categorical_accuracy: 0.7733\n",
      "Epoch 2/22\n",
      "750/750 [==============================] - 422s 563ms/step - loss: 1.0650 - categorical_accuracy: 0.6933 - val_loss: 0.6456 - val_categorical_accuracy: 0.8017\n",
      "Epoch 3/22\n",
      "750/750 [==============================] - 423s 564ms/step - loss: 0.8263 - categorical_accuracy: 0.7458 - val_loss: 0.6139 - val_categorical_accuracy: 0.8075\n",
      "Epoch 4/22\n",
      "750/750 [==============================] - 424s 565ms/step - loss: 0.6601 - categorical_accuracy: 0.7947 - val_loss: 0.6161 - val_categorical_accuracy: 0.8075\n",
      "Epoch 5/22\n",
      "750/750 [==============================] - 423s 564ms/step - loss: 0.5083 - categorical_accuracy: 0.8389 - val_loss: 0.6237 - val_categorical_accuracy: 0.8158\n",
      "Epoch 6/22\n",
      "750/750 [==============================] - 423s 564ms/step - loss: 0.4138 - categorical_accuracy: 0.8648 - val_loss: 0.6723 - val_categorical_accuracy: 0.8008\n",
      "Epoch 7/22\n",
      "750/750 [==============================] - 423s 565ms/step - loss: 0.3426 - categorical_accuracy: 0.8873 - val_loss: 0.7084 - val_categorical_accuracy: 0.8083\n",
      "Epoch 8/22\n",
      "750/750 [==============================] - 423s 564ms/step - loss: 0.2874 - categorical_accuracy: 0.9054 - val_loss: 0.7995 - val_categorical_accuracy: 0.7825\n",
      "Epoch 9/22\n",
      "750/750 [==============================] - 423s 564ms/step - loss: 0.2441 - categorical_accuracy: 0.9210 - val_loss: 0.7546 - val_categorical_accuracy: 0.7983\n",
      "Epoch 10/22\n",
      "750/750 [==============================] - 423s 564ms/step - loss: 0.2063 - categorical_accuracy: 0.9315 - val_loss: 0.8554 - val_categorical_accuracy: 0.8042\n",
      "Epoch 11/22\n",
      "750/750 [==============================] - 424s 565ms/step - loss: 0.2010 - categorical_accuracy: 0.9366 - val_loss: 0.8712 - val_categorical_accuracy: 0.7942\n",
      "Epoch 12/22\n",
      "750/750 [==============================] - 423s 565ms/step - loss: 0.1685 - categorical_accuracy: 0.9449 - val_loss: 0.8213 - val_categorical_accuracy: 0.8017\n",
      "Epoch 13/22\n",
      "750/750 [==============================] - 423s 564ms/step - loss: 0.1344 - categorical_accuracy: 0.9552 - val_loss: 0.9870 - val_categorical_accuracy: 0.7925\n",
      "Epoch 14/22\n",
      "750/750 [==============================] - 423s 565ms/step - loss: 0.1370 - categorical_accuracy: 0.9550 - val_loss: 0.9495 - val_categorical_accuracy: 0.7983\n",
      "Epoch 15/22\n",
      "750/750 [==============================] - 423s 564ms/step - loss: 0.1301 - categorical_accuracy: 0.9583 - val_loss: 0.8916 - val_categorical_accuracy: 0.8000\n",
      "Epoch 16/22\n",
      "750/750 [==============================] - 423s 565ms/step - loss: 0.1119 - categorical_accuracy: 0.9618 - val_loss: 0.9350 - val_categorical_accuracy: 0.8133\n",
      "Epoch 17/22\n",
      "750/750 [==============================] - 423s 564ms/step - loss: 0.1286 - categorical_accuracy: 0.9582 - val_loss: 1.0017 - val_categorical_accuracy: 0.7983\n",
      "Epoch 18/22\n",
      "750/750 [==============================] - 423s 564ms/step - loss: 0.1035 - categorical_accuracy: 0.9668 - val_loss: 1.0655 - val_categorical_accuracy: 0.7817\n",
      "Epoch 19/22\n",
      "750/750 [==============================] - 424s 565ms/step - loss: 0.0978 - categorical_accuracy: 0.9676 - val_loss: 0.9967 - val_categorical_accuracy: 0.7925\n",
      "Epoch 20/22\n",
      "750/750 [==============================] - 423s 564ms/step - loss: 0.0806 - categorical_accuracy: 0.9734 - val_loss: 1.0629 - val_categorical_accuracy: 0.7975\n",
      "Epoch 21/22\n",
      "750/750 [==============================] - 423s 564ms/step - loss: 0.0880 - categorical_accuracy: 0.9705 - val_loss: 1.0937 - val_categorical_accuracy: 0.7950\n",
      "Epoch 22/22\n",
      "750/750 [==============================] - 424s 565ms/step - loss: 0.0912 - categorical_accuracy: 0.9698 - val_loss: 0.9288 - val_categorical_accuracy: 0.8175\n"
     ]
    }
   ],
   "source": [
    "history = model.fit(train_generator,\n",
    "                    epochs=epoch,\n",
    "                    validation_data=validation_generator,\n",
    "                    verbose=1)"
   ]
  },
  {
   "cell_type": "code",
   "execution_count": 12,
   "id": "prostate-square",
   "metadata": {},
   "outputs": [
    {
     "data": {
      "text/plain": [
       "['loss', 'categorical_accuracy']"
      ]
     },
     "execution_count": 12,
     "metadata": {},
     "output_type": "execute_result"
    }
   ],
   "source": [
    "model.metrics_names"
   ]
  },
  {
   "cell_type": "code",
   "execution_count": 13,
   "id": "stone-threat",
   "metadata": {},
   "outputs": [
    {
     "data": {
      "image/png": "[encoded data removed]",
      "text/plain": [
       "<Figure size 1080x360 with 2 Axes>"
      ]
     },
     "metadata": {
      "needs_background": "light"
     },
     "output_type": "display_data"
    }
   ],
   "source": [
    "accuracy = history.history['categorical_accuracy']\n",
    "val_accuracy = history.history['val_categorical_accuracy']\n",
    "loss = history.history['loss']\n",
    "val_loss = history.history['val_loss']\n",
    "\n",
    "epochs = range(len(accuracy))\n",
    "\n",
    "plt.figure(figsize=(15, 5))\n",
    "plt.subplot(1, 2, 1)\n",
    "plt.plot(epochs, accuracy, label='Training accuracy')\n",
    "plt.plot(epochs, val_accuracy, label='Validation accuracy')\n",
    "plt.title('Training and validation accuracyuracy')\n",
    "plt.legend()\n",
    "\n",
    "plt.subplot(1, 2, 2)\n",
    "plt.plot(epochs, loss, label='Training loss')\n",
    "plt.plot(epochs, val_loss, label='Validation loss')\n",
    "plt.title('Training and validation loss')\n",
    "plt.legend()\n",
    "\n",
    "plt.show()"
   ]
  },
  {
   "cell_type": "markdown",
   "id": "native-scholarship",
   "metadata": {},
   "source": [
    "## Evaluate Model"
   ]
  },
  {
   "cell_type": "code",
   "execution_count": 14,
   "id": "virtual-wednesday",
   "metadata": {},
   "outputs": [
    {
     "name": "stdout",
     "output_type": "stream",
     "text": [
      "WARNING:tensorflow:sample_weight modes were coerced from\n",
      "  ...\n",
      "    to  \n",
      "  ['...']\n",
      "75/75 [==============================] - 10s 133ms/step - loss: 0.9288 - categorical_accuracy: 0.8175\n"
     ]
    },
    {
     "data": {
      "text/plain": [
       "[0.9288075790305932, 0.8175]"
      ]
     },
     "execution_count": 14,
     "metadata": {},
     "output_type": "execute_result"
    }
   ],
   "source": [
    "model.evaluate(validation_generator, verbose=1)"
   ]
  },
  {
   "cell_type": "code",
   "execution_count": 15,
   "id": "hispanic-domain",
   "metadata": {},
   "outputs": [],
   "source": [
    "y_true = list()\n",
    "for idx in range(len(validation_generator.index_array)):\n",
    "    img_idx = validation_generator.index_array[idx]\n",
    "    y_true.append(validation_generator.labels[img_idx])"
   ]
  },
  {
   "cell_type": "code",
   "execution_count": 16,
   "id": "aggressive-platform",
   "metadata": {},
   "outputs": [
    {
     "name": "stdout",
     "output_type": "stream",
     "text": [
      "75/75 [==============================] - 10s 130ms/step\n"
     ]
    }
   ],
   "source": [
    "y_pred_prob = model.predict(validation_generator, verbose=1)\n",
    "y_pred = list()\n",
    "\n",
    "for idx in range(len(y_pred_prob)):\n",
    "    y_pred.append(np.argmax(y_pred_prob[idx]))"
   ]
  },
  {
   "cell_type": "code",
   "execution_count": 17,
   "id": "elementary-hands",
   "metadata": {},
   "outputs": [
    {
     "name": "stdout",
     "output_type": "stream",
     "text": [
      "              precision    recall  f1-score   support\n",
      "\n",
      "     bicycle       0.96      0.94      0.95       100\n",
      "     cabinet       0.84      0.79      0.81       100\n",
      "       chair       0.83      0.74      0.78       100\n",
      " coffe_maker       0.81      0.79      0.80       100\n",
      "         fan       0.88      0.84      0.86       100\n",
      "      kettle       0.78      0.83      0.80       100\n",
      "        lamp       0.79      0.72      0.75       100\n",
      "         mug       0.81      0.90      0.85       100\n",
      "        sofa       0.94      0.88      0.91       100\n",
      "     stapler       0.84      0.89      0.86       100\n",
      "       table       0.65      0.62      0.63       100\n",
      "     toaster       0.72      0.87      0.79       100\n",
      "\n",
      "    accuracy                           0.82      1200\n",
      "   macro avg       0.82      0.82      0.82      1200\n",
      "weighted avg       0.82      0.82      0.82      1200\n",
      "\n"
     ]
    }
   ],
   "source": [
    "print(\n",
    "    classification_report(y_true,\n",
    "                          y_pred,\n",
    "                          target_names=[\n",
    "                              'bicycle', 'cabinet', 'chair', 'coffe_maker',\n",
    "                              'fan', 'kettle', 'lamp', 'mug', 'sofa',\n",
    "                              'stapler', 'table', 'toaster'\n",
    "                          ]))"
   ]
  },
  {
   "cell_type": "code",
   "execution_count": 18,
   "id": "personal-breach",
   "metadata": {},
   "outputs": [],
   "source": [
    "model.save(\"end_to_end_learning_without_frozen_layer.h5\")"
   ]
  }
 ],
 "metadata": {
  "kernelspec": {
   "display_name": "Python 3",
   "language": "python",
   "name": "python3"
  },
  "language_info": {
   "codemirror_mode": {
    "name": "ipython",
    "version": 3
   },
   "file_extension": ".py",
   "mimetype": "text/x-python",
   "name": "python",
   "nbconvert_exporter": "python",
   "pygments_lexer": "ipython3",
   "version": "3.7.7"
  },
  "toc": {
   "base_numbering": 1,
   "nav_menu": {},
   "number_sections": true,
   "sideBar": true,
   "skip_h1_title": true,
   "title_cell": "Table of Contents",
   "title_sidebar": "Contents",
   "toc_cell": false,
   "toc_position": {
    "height": "calc(100% - 180px)",
    "left": "10px",
    "top": "150px",
    "width": "369.6px"
   },
   "toc_section_display": true,
   "toc_window_display": true
  }
 },
 "nbformat": 4,
 "nbformat_minor": 5
}
