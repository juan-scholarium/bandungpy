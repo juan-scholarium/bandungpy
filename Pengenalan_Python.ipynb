{
  "nbformat": 4,
  "nbformat_minor": 0,
  "metadata": {
    "colab": {
      "name": "Pengenalan Python.ipynb",
      "provenance": [],
      "collapsed_sections": [],
      "toc_visible": true,
      "authorship_tag": "ABX9TyNbvGglOT/gEl7rhU93WQab",
      "include_colab_link": true
    },
    "kernelspec": {
      "name": "python3",
      "display_name": "Python 3"
    },
    "language_info": {
      "name": "python"
    }
  },
  "cells": [
    {
      "cell_type": "markdown",
      "metadata": {
        "id": "view-in-github",
        "colab_type": "text"
      },
      "source": [
        "<a href=\"https://colab.research.google.com/github/juan-scholarium/bandungpy/blob/main/Pengenalan_Python.ipynb\" target=\"_parent\"><img src=\"https://colab.research.google.com/assets/colab-badge.svg\" alt=\"Open In Colab\"/></a>"
      ]
    },
    {
      "cell_type": "markdown",
      "source": [
        "# INTRODUCTION TO PYTHON\n",
        "\n",
        "\n",
        "Referensi:\n",
        "\n",
        "1. [The Python Workshop](https://www.google.co.id/books/edition/The_Python_Workshop/zV3HywEACAAJ?hl=en) ==> Referensi utama\n",
        "2.[Learn Python Programming](https://www.google.co.id/books/edition/Learn_Python_Programming/NsNiDwAAQBAJ?hl=en&gbpv=0)\n",
        "3. [Data Structure and Algorithms in Python](https://www.google.co.id/books/edition/Data_Structures_and_Algorithms_in_Python/Mr59DwAAQBAJ?hl=en&kptab=overview)\n",
        "\n"
      ],
      "metadata": {
        "id": "RaJqE1vb14pQ"
      }
    },
    {
      "cell_type": "markdown",
      "source": [
        "# What is Algorithms?\n",
        "\n",
        "* Algoritma adalah [prosedur sistematis untuk memecahkan masalah matematis dalam langkah-langkah terbatas](https://kbbi.kemdikbud.go.id/entri/algoritma).\n",
        "* Dalam kesempatan kali ini kita akan berkenalan terlebih dahulu dengan Python yang menjadi bahasa untuk mengekspresikan Algoritma."
      ],
      "metadata": {
        "id": "ssGFsNK_CyrD"
      }
    },
    {
      "cell_type": "markdown",
      "source": [
        "# Why Python?\n",
        "\n",
        "\n",
        "* Mudah untuk dibaca\n",
        "* Memiliki *library* yang banyak\n",
        "* Menurut Mark Lutz, program Python umumnya memiliki ukuran 1/5 sampai 1/3 dibandingkan dengan Java atau C++ (Learning Python, 5th Edition, O'Reilly Media)\n",
        "* Salah satu bahasa pemrograman yang paling bertumbuh penggunanya (lihat referensi trend Python)\n",
        "\n",
        "**Referensi trend Python**\n",
        "* [PYPL PopularitY of Programming Language](https://pypl.github.io/PYPL.html)\n",
        "* [Google Trends](https://trends.google.co.id/trends/explore?date=all&q=%2Fm%2F05z1_,%2Fm%2F02p97)"
      ],
      "metadata": {
        "id": "TQrnxwQcmnPX"
      }
    },
    {
      "cell_type": "markdown",
      "source": [
        "# Where can I get Python?\n",
        "\n",
        "\n",
        "* [Official Web Site Python](https://www.python.org/)\n",
        "* [Anaconda](https://www.anaconda.com/products/individual)\n",
        "* [Google Colab](https://colab.research.google.com/) ==> ini yang akan kita gunakan\n",
        "* [Microsoft Store](https://www.microsoft.com/en-us/p/python-37/9nj46sx7x90p#activetab=pivot:overviewtab) (khusus Windows)"
      ],
      "metadata": {
        "id": "zfI3CkigCq6b"
      }
    },
    {
      "cell_type": "markdown",
      "source": [
        "# Our Scope \n",
        "\n",
        "\n",
        "* Data Types - integer, float, string, boolean\n",
        "* Vital Python - Math, Strings, Conditionals, Loops, and Function\n",
        "* Python Structure - List, Dictionary, Tuple, Set\n",
        "\n",
        "\n",
        "---\n",
        "\n"
      ],
      "metadata": {
        "id": "RZEeNgKhTxiq"
      }
    },
    {
      "cell_type": "markdown",
      "source": [
        "# Data Types\n",
        "\n",
        "* Tipe data ini akan berpengaruh terhadap operasi yang diterapkan terhadap data. Misal, tipe data `int` untuk perhitungan, `boolean` untuk mengetahui kondisi suatu variabel.\n",
        "\n",
        "* Pada Python, tipe data tidak harus didefinisikan terlebih dahulu.\n",
        "\n",
        "* A script is simply a collection of statements"
      ],
      "metadata": {
        "id": "08oHsQHfUInF"
      }
    },
    {
      "cell_type": "code",
      "source": [
        "# tipe data integer\n",
        "type(1)"
      ],
      "metadata": {
        "colab": {
          "base_uri": "https://localhost:8080/"
        },
        "id": "k-sjYguiUKDz",
        "outputId": "2c7ec4be-2cd3-4a1a-b4ef-98e1255a6b9e"
      },
      "execution_count": 189,
      "outputs": [
        {
          "output_type": "execute_result",
          "data": {
            "text/plain": [
              "int"
            ]
          },
          "metadata": {},
          "execution_count": 189
        }
      ]
    },
    {
      "cell_type": "code",
      "source": [
        "# tipe data float\n",
        "type(1.0)"
      ],
      "metadata": {
        "colab": {
          "base_uri": "https://localhost:8080/"
        },
        "id": "DhUuK8HuUNcS",
        "outputId": "5174c4d5-2547-4c4b-c63f-2272b34de86c"
      },
      "execution_count": 190,
      "outputs": [
        {
          "output_type": "execute_result",
          "data": {
            "text/plain": [
              "float"
            ]
          },
          "metadata": {},
          "execution_count": 190
        }
      ]
    },
    {
      "cell_type": "code",
      "source": [
        "# tipe data string\n",
        "type(\"algoritma\")"
      ],
      "metadata": {
        "colab": {
          "base_uri": "https://localhost:8080/"
        },
        "id": "t4JzCwnvUQln",
        "outputId": "a771556f-edfb-4bc5-8987-086f692f1284"
      },
      "execution_count": 191,
      "outputs": [
        {
          "output_type": "execute_result",
          "data": {
            "text/plain": [
              "str"
            ]
          },
          "metadata": {},
          "execution_count": 191
        }
      ]
    },
    {
      "cell_type": "code",
      "source": [
        "# tipe data boolean\n",
        "type(False)"
      ],
      "metadata": {
        "colab": {
          "base_uri": "https://localhost:8080/"
        },
        "id": "I8RYYY5tUEZk",
        "outputId": "dfbcffb0-bd8f-4c8f-9cbe-753d968ce3c7"
      },
      "execution_count": 192,
      "outputs": [
        {
          "output_type": "execute_result",
          "data": {
            "text/plain": [
              "bool"
            ]
          },
          "metadata": {},
          "execution_count": 192
        }
      ]
    },
    {
      "cell_type": "markdown",
      "source": [
        "# Vital Python - Math, Strings, Conditionals, and Loops + Function"
      ],
      "metadata": {
        "id": "o97SFOr_rMV3"
      }
    },
    {
      "cell_type": "markdown",
      "source": [
        "## Numbers: Operations and Variables\n",
        "\n",
        "\n",
        "A number can be either an integer or a decimal (floating point)."
      ],
      "metadata": {
        "id": "p-tOBTv5qzXM"
      }
    },
    {
      "cell_type": "markdown",
      "source": [
        "### Operasi matematika"
      ],
      "metadata": {
        "id": "Yi3wdQLnMbIq"
      }
    },
    {
      "cell_type": "code",
      "source": [
        "# Penjumlahan\n",
        "1 + 2"
      ],
      "metadata": {
        "colab": {
          "base_uri": "https://localhost:8080/"
        },
        "id": "OR3igJFmK7H3",
        "outputId": "03068271-28d0-4ccd-ee86-116851e2d047"
      },
      "execution_count": 193,
      "outputs": [
        {
          "output_type": "execute_result",
          "data": {
            "text/plain": [
              "3"
            ]
          },
          "metadata": {},
          "execution_count": 193
        }
      ]
    },
    {
      "cell_type": "code",
      "source": [
        "# Pengurangan\n",
        "3 - 1"
      ],
      "metadata": {
        "colab": {
          "base_uri": "https://localhost:8080/"
        },
        "id": "xLA4fR0ZLCU9",
        "outputId": "5a134742-4f86-4eef-b8f9-2d985893a89f"
      },
      "execution_count": 194,
      "outputs": [
        {
          "output_type": "execute_result",
          "data": {
            "text/plain": [
              "2"
            ]
          },
          "metadata": {},
          "execution_count": 194
        }
      ]
    },
    {
      "cell_type": "code",
      "source": [
        "# Pembagian (float)\n",
        "4 / 2"
      ],
      "metadata": {
        "colab": {
          "base_uri": "https://localhost:8080/"
        },
        "id": "68jdNRo6LGHK",
        "outputId": "690477f6-0191-4ed1-8857-2de199b4c342"
      },
      "execution_count": 195,
      "outputs": [
        {
          "output_type": "execute_result",
          "data": {
            "text/plain": [
              "2.0"
            ]
          },
          "metadata": {},
          "execution_count": 195
        }
      ]
    },
    {
      "cell_type": "code",
      "source": [
        "# Pembagian (integer)\n",
        "7 // 3"
      ],
      "metadata": {
        "colab": {
          "base_uri": "https://localhost:8080/"
        },
        "id": "JI12HR4_LJT4",
        "outputId": "eaa106bd-dc1c-43cf-84de-417553ccc7f7"
      },
      "execution_count": 196,
      "outputs": [
        {
          "output_type": "execute_result",
          "data": {
            "text/plain": [
              "2"
            ]
          },
          "metadata": {},
          "execution_count": 196
        }
      ]
    },
    {
      "cell_type": "code",
      "source": [
        "# Perkalian\n",
        "2 * 2"
      ],
      "metadata": {
        "colab": {
          "base_uri": "https://localhost:8080/"
        },
        "id": "JySKLYfMLNXG",
        "outputId": "270c7bbb-8991-45e3-a1d5-b288370c6ff5"
      },
      "execution_count": 197,
      "outputs": [
        {
          "output_type": "execute_result",
          "data": {
            "text/plain": [
              "4"
            ]
          },
          "metadata": {},
          "execution_count": 197
        }
      ]
    },
    {
      "cell_type": "code",
      "source": [
        "# Pangkat\n",
        "2 ** 3"
      ],
      "metadata": {
        "colab": {
          "base_uri": "https://localhost:8080/"
        },
        "id": "b5UTJo7ILP2T",
        "outputId": "8571e828-976d-481a-ec01-b9f6b66913e2"
      },
      "execution_count": 198,
      "outputs": [
        {
          "output_type": "execute_result",
          "data": {
            "text/plain": [
              "8"
            ]
          },
          "metadata": {},
          "execution_count": 198
        }
      ]
    },
    {
      "cell_type": "code",
      "source": [
        "# Modulus\n",
        "3 % 2"
      ],
      "metadata": {
        "colab": {
          "base_uri": "https://localhost:8080/"
        },
        "id": "3Z7eStMwLSjb",
        "outputId": "8700c6e9-6bbe-4a77-c106-92e2515205fb"
      },
      "execution_count": 199,
      "outputs": [
        {
          "output_type": "execute_result",
          "data": {
            "text/plain": [
              "1"
            ]
          },
          "metadata": {},
          "execution_count": 199
        }
      ]
    },
    {
      "cell_type": "markdown",
      "source": [
        "**Take away**\n",
        "\n",
        "Perhitungan matematika pada Python mengikuti ordo perhitungan matematika pada umumnya (parentheses first, exponentiation second, multiplication/division third, and addition/subtraction fourth)"
      ],
      "metadata": {
        "id": "DvuhKY_qLfQY"
      }
    },
    {
      "cell_type": "code",
      "source": [
        "# Contoh ordo perhitungan\n",
        "(1 + 2) * 3 / 4 + 1"
      ],
      "metadata": {
        "colab": {
          "base_uri": "https://localhost:8080/"
        },
        "id": "pniUMknmLxzu",
        "outputId": "3956044e-afc2-4c96-8f64-f058b115382c"
      },
      "execution_count": 200,
      "outputs": [
        {
          "output_type": "execute_result",
          "data": {
            "text/plain": [
              "3.25"
            ]
          },
          "metadata": {},
          "execution_count": 200
        }
      ]
    },
    {
      "cell_type": "markdown",
      "source": [
        "Urutannya:\n",
        "\n",
        "\n",
        "1.   1 + 2 = 3\n",
        "2.   3 * 3 = 9\n",
        "3.   9 / 4 = 2.25\n",
        "4.   2.25 + 1 = 3.25\n",
        "\n"
      ],
      "metadata": {
        "id": "ClkTEqUKL861"
      }
    },
    {
      "cell_type": "markdown",
      "source": [
        "### Variabel\n",
        "\n",
        "* A variable is a name associated with a piece of data \n",
        "* Variables allow you to store and manipulate data in your programs\n",
        "* Think of a variable as a mailbox which holds a specific piece of information\n",
        "* It is vitally important to distinguish between the name of the variable and the value of the variable.\n",
        "\n",
        "\n",
        "**Programming Tips**\n",
        "* If a variable is initialized as a number, it should always be used as an number.\n",
        "* Choose meaningful variable names"
      ],
      "metadata": {
        "id": "d454wKBbMfC5"
      }
    },
    {
      "cell_type": "code",
      "source": [
        "# Nilai dapat disimpan dalam sebuah variabel.\n",
        "# Variabel ini dapat digunakan berulang kali\n",
        "# Variabel bersifat case sensitif\n",
        "\n",
        "x = 3\n",
        "y = 4\n",
        "\n",
        "luas = x * y # hasil perhitungan disimpan dalam variabel \"luas\"\n",
        "print(luas) # tampilkan nilai dari \"luas\""
      ],
      "metadata": {
        "colab": {
          "base_uri": "https://localhost:8080/"
        },
        "id": "8aGKWxS8M0YN",
        "outputId": "42154c38-1df8-421c-92be-0c89fcdea9b1"
      },
      "execution_count": 201,
      "outputs": [
        {
          "output_type": "stream",
          "name": "stdout",
          "text": [
            "12\n"
          ]
        }
      ]
    },
    {
      "cell_type": "code",
      "source": [
        "# Variabel dapat diubah dengan nilai lain\n",
        "x = 3\n",
        "y = 4\n",
        "\n",
        "# ganti variabel x\n",
        "x = 5\n",
        "\n",
        "luas = x * y\n",
        "print(luas)"
      ],
      "metadata": {
        "colab": {
          "base_uri": "https://localhost:8080/"
        },
        "id": "7WjrPhp3M6U5",
        "outputId": "ccddc00d-d7d8-484c-bc04-047e88400f29"
      },
      "execution_count": 202,
      "outputs": [
        {
          "output_type": "stream",
          "name": "stdout",
          "text": [
            "20\n"
          ]
        }
      ]
    },
    {
      "cell_type": "markdown",
      "source": [
        "**Take away**\n",
        "\n",
        "Nama variabel bisa apa pun selain *reserved words* dan tidak diawali dengan angka, terdapat tanda baca, spasi"
      ],
      "metadata": {
        "id": "BG5eE2yTOPWZ"
      }
    },
    {
      "cell_type": "code",
      "source": [
        "# Reserved words\n",
        "import keyword\n",
        "print(keyword.kwlist)"
      ],
      "metadata": {
        "colab": {
          "base_uri": "https://localhost:8080/"
        },
        "id": "aBDuUZqYOVnR",
        "outputId": "b6151d9f-02f6-4cd4-801a-099a76237f09"
      },
      "execution_count": 203,
      "outputs": [
        {
          "output_type": "stream",
          "name": "stdout",
          "text": [
            "['False', 'None', 'True', 'and', 'as', 'assert', 'async', 'await', 'break', 'class', 'continue', 'def', 'del', 'elif', 'else', 'except', 'finally', 'for', 'from', 'global', 'if', 'import', 'in', 'is', 'lambda', 'nonlocal', 'not', 'or', 'pass', 'raise', 'return', 'try', 'while', 'with', 'yield']\n"
          ]
        }
      ]
    },
    {
      "cell_type": "code",
      "source": [
        "# contoh variabel yang diawali dengan angka\n",
        "1angka = 1"
      ],
      "metadata": {
        "colab": {
          "base_uri": "https://localhost:8080/",
          "height": 133
        },
        "id": "Y8xHPXMkOWD2",
        "outputId": "44eba9bb-0910-41d8-b1b9-db17d8281170"
      },
      "execution_count": 204,
      "outputs": [
        {
          "output_type": "error",
          "ename": "SyntaxError",
          "evalue": "ignored",
          "traceback": [
            "\u001b[0;36m  File \u001b[0;32m\"<ipython-input-204-bcedcb04b080>\"\u001b[0;36m, line \u001b[0;32m2\u001b[0m\n\u001b[0;31m    1angka = 1\u001b[0m\n\u001b[0m         ^\u001b[0m\n\u001b[0;31mSyntaxError\u001b[0m\u001b[0;31m:\u001b[0m invalid syntax\n"
          ]
        }
      ]
    },
    {
      "cell_type": "markdown",
      "source": [
        "## Strings\n",
        "\n",
        "\n",
        "A string is a sequence of letters or numbers enclosed in single or double quotes"
      ],
      "metadata": {
        "id": "q4Z-1oUKq3Bj"
      }
    },
    {
      "cell_type": "markdown",
      "source": [
        "### Concatenation, Methods, and input()"
      ],
      "metadata": {
        "id": "_AUFz-3QSF5a"
      }
    },
    {
      "cell_type": "code",
      "source": [
        "'this is a string type data' # tipe data string diapit oleh tanda \" atau '"
      ],
      "metadata": {
        "id": "rKwE4tdQO3rK",
        "colab": {
          "base_uri": "https://localhost:8080/",
          "height": 36
        },
        "outputId": "41961385-3b93-4284-e30d-5f84611eca79"
      },
      "execution_count": 205,
      "outputs": [
        {
          "output_type": "execute_result",
          "data": {
            "application/vnd.google.colaboratory.intrinsic+json": {
              "type": "string"
            },
            "text/plain": [
              "'this is a string type data'"
            ]
          },
          "metadata": {},
          "execution_count": 205
        }
      ]
    },
    {
      "cell_type": "code",
      "source": [
        "type (\"this is a string type data\")"
      ],
      "metadata": {
        "id": "1EY6SVl6O61p",
        "colab": {
          "base_uri": "https://localhost:8080/"
        },
        "outputId": "c70ba9c0-a37e-4c94-d376-2339c13c467a"
      },
      "execution_count": 206,
      "outputs": [
        {
          "output_type": "execute_result",
          "data": {
            "text/plain": [
              "str"
            ]
          },
          "metadata": {},
          "execution_count": 206
        }
      ]
    },
    {
      "cell_type": "code",
      "source": [
        "# string dalam variabel\n",
        "kalimat = \"belajar Algoritma dalam bahasa Python\"\n",
        "print(kalimat)"
      ],
      "metadata": {
        "id": "jwtWNpJ-O9DI",
        "colab": {
          "base_uri": "https://localhost:8080/"
        },
        "outputId": "4b824057-05df-45d2-d881-3e09df194487"
      },
      "execution_count": 207,
      "outputs": [
        {
          "output_type": "stream",
          "name": "stdout",
          "text": [
            "belajar Algoritma dalam bahasa Python\n"
          ]
        }
      ]
    },
    {
      "cell_type": "code",
      "source": [
        "# Concatenation\n",
        "print(\"Juan \" + kalimat)"
      ],
      "metadata": {
        "id": "6xKJlWaiPwUv",
        "colab": {
          "base_uri": "https://localhost:8080/"
        },
        "outputId": "ceedb4b3-bbd9-43bd-c2b7-8ae76133cb8e"
      },
      "execution_count": 208,
      "outputs": [
        {
          "output_type": "stream",
          "name": "stdout",
          "text": [
            "Juan belajar Algoritma dalam bahasa Python\n"
          ]
        }
      ]
    },
    {
      "cell_type": "code",
      "source": [
        "# Panjang dari sebuah data string\n",
        "len(\"Juan \")"
      ],
      "metadata": {
        "id": "619oyMOmQPX0",
        "colab": {
          "base_uri": "https://localhost:8080/"
        },
        "outputId": "f7d45b06-0a81-4612-a6c2-fb6c34b3a11b"
      },
      "execution_count": 209,
      "outputs": [
        {
          "output_type": "execute_result",
          "data": {
            "text/plain": [
              "5"
            ]
          },
          "metadata": {},
          "execution_count": 209
        }
      ]
    },
    {
      "cell_type": "code",
      "source": [
        "# String Methods\n",
        "name = \"Juan\"\n",
        "name.lower() # eksplorasi lainnya"
      ],
      "metadata": {
        "id": "P-xoze6uQrub",
        "colab": {
          "base_uri": "https://localhost:8080/",
          "height": 36
        },
        "outputId": "b43c8878-d017-419d-ed69-fddafdd944f5"
      },
      "execution_count": 210,
      "outputs": [
        {
          "output_type": "execute_result",
          "data": {
            "application/vnd.google.colaboratory.intrinsic+json": {
              "type": "string"
            },
            "text/plain": [
              "'juan'"
            ]
          },
          "metadata": {},
          "execution_count": 210
        }
      ]
    },
    {
      "cell_type": "code",
      "source": [
        "# Input()\n",
        "name = input()\n",
        "print(\"Halo \", name.capitalize())"
      ],
      "metadata": {
        "id": "OpgjOaOcRDj_",
        "colab": {
          "base_uri": "https://localhost:8080/"
        },
        "outputId": "f12905ef-032d-42b7-cfa1-8d0fffdef426"
      },
      "execution_count": 211,
      "outputs": [
        {
          "output_type": "stream",
          "name": "stdout",
          "text": [
            "juan\n",
            "Halo  Juan\n"
          ]
        }
      ]
    },
    {
      "cell_type": "markdown",
      "source": [
        "### String Indexing & Slicing\n",
        "\n",
        "Indexing: mengambil spesifik (satu) elemen \\\\\n",
        "Slicing: mengambil sebagian (kumpulan) elemen"
      ],
      "metadata": {
        "id": "MsBrqa4JSKeB"
      }
    },
    {
      "cell_type": "code",
      "source": [
        "kata = \"Algoritma\" # huruf \"A\" berada di index 0, huruf \"a\" berada di index 8 karena index dimulai dari 0\n",
        "len(kata)"
      ],
      "metadata": {
        "id": "9xVewIVIR349",
        "colab": {
          "base_uri": "https://localhost:8080/"
        },
        "outputId": "f045b8ed-d8ae-45f4-ef76-30f30146dffb"
      },
      "execution_count": 212,
      "outputs": [
        {
          "output_type": "execute_result",
          "data": {
            "text/plain": [
              "9"
            ]
          },
          "metadata": {},
          "execution_count": 212
        }
      ]
    },
    {
      "cell_type": "code",
      "source": [
        "# mengambil huruf di index 0\n",
        "kata[1]"
      ],
      "metadata": {
        "id": "o-Uzr6pjSXe1",
        "colab": {
          "base_uri": "https://localhost:8080/",
          "height": 36
        },
        "outputId": "bbb435b1-8a83-4850-b871-b143006fb7a8"
      },
      "execution_count": 213,
      "outputs": [
        {
          "output_type": "execute_result",
          "data": {
            "application/vnd.google.colaboratory.intrinsic+json": {
              "type": "string"
            },
            "text/plain": [
              "'l'"
            ]
          },
          "metadata": {},
          "execution_count": 213
        }
      ]
    },
    {
      "cell_type": "code",
      "source": [
        "kata[-2] # index negatif berarti kita mengambil index dari urutan belakang"
      ],
      "metadata": {
        "id": "U4pG4f1PSc0O",
        "colab": {
          "base_uri": "https://localhost:8080/",
          "height": 36
        },
        "outputId": "7085d85e-051c-4f66-8c71-6cf379abf66d"
      },
      "execution_count": 214,
      "outputs": [
        {
          "output_type": "execute_result",
          "data": {
            "application/vnd.google.colaboratory.intrinsic+json": {
              "type": "string"
            },
            "text/plain": [
              "'m'"
            ]
          },
          "metadata": {},
          "execution_count": 214
        }
      ]
    },
    {
      "cell_type": "code",
      "source": [
        "# mengambil sebagian elemen / slicing\n",
        "kata[0:3]"
      ],
      "metadata": {
        "id": "oVOzX_5zR2jw",
        "colab": {
          "base_uri": "https://localhost:8080/",
          "height": 36
        },
        "outputId": "630a97b7-e3ac-472a-a49f-0293eaeb56f0"
      },
      "execution_count": 215,
      "outputs": [
        {
          "output_type": "execute_result",
          "data": {
            "application/vnd.google.colaboratory.intrinsic+json": {
              "type": "string"
            },
            "text/plain": [
              "'Alg'"
            ]
          },
          "metadata": {},
          "execution_count": 215
        }
      ]
    },
    {
      "cell_type": "markdown",
      "source": [
        "**Take away**\n",
        "\n",
        "Indexing dan slicing dapat diaplikasikan pada Array atau List, DataFrame"
      ],
      "metadata": {
        "id": "2vUNRxSIdhpH"
      }
    },
    {
      "cell_type": "markdown",
      "source": [
        "## Booleans, Comparison Operator, and Conditionals\n",
        "\n",
        "Tipe data booleans sangat erat kaitannya dengan operator pembanding dan conditionals (`if`)\n",
        "\n"
      ],
      "metadata": {
        "id": "yMtFqv_wq_wR"
      }
    },
    {
      "cell_type": "markdown",
      "source": [
        "### Booleans"
      ],
      "metadata": {
        "id": "DBJBKIm4anI1"
      }
    },
    {
      "cell_type": "markdown",
      "source": [
        "Ingat tabel logika?\n",
        "\n",
        "![Tabel Logika](https://external-content.duckduckgo.com/iu/?u=http%3A%2F%2Finstrumentationtools.com%2Fwp-content%2Fuploads%2F2017%2F07%2Finstrumentationtools.com_digital-logic-gates-truthtables.png&f=1&nofb=1)"
      ],
      "metadata": {
        "id": "108QSucCYGiC"
      }
    },
    {
      "cell_type": "markdown",
      "source": [
        "### Operator Pembanding"
      ],
      "metadata": {
        "id": "ES2Kf7a_atJH"
      }
    },
    {
      "cell_type": "code",
      "source": [
        "# Operator pembanding lebih kecil dari (<)\n",
        "1 < 2"
      ],
      "metadata": {
        "id": "HWX6BIMKZF2L",
        "colab": {
          "base_uri": "https://localhost:8080/"
        },
        "outputId": "e6243036-4023-4a0c-bde5-3ac47852b427"
      },
      "execution_count": 216,
      "outputs": [
        {
          "output_type": "execute_result",
          "data": {
            "text/plain": [
              "True"
            ]
          },
          "metadata": {},
          "execution_count": 216
        }
      ]
    },
    {
      "cell_type": "code",
      "source": [
        "# Operator pembanding lebih kecil sama dengan (<=)\n",
        "2 <= 2"
      ],
      "metadata": {
        "id": "1iQXITCnZhyo",
        "colab": {
          "base_uri": "https://localhost:8080/"
        },
        "outputId": "070574d3-2c0f-4b48-aec7-d774434fb228"
      },
      "execution_count": 217,
      "outputs": [
        {
          "output_type": "execute_result",
          "data": {
            "text/plain": [
              "True"
            ]
          },
          "metadata": {},
          "execution_count": 217
        }
      ]
    },
    {
      "cell_type": "code",
      "source": [
        "# Operator pembanding lebih besar dari (>)\n",
        "1 > 2"
      ],
      "metadata": {
        "id": "YkKJXk_4Zg-R",
        "colab": {
          "base_uri": "https://localhost:8080/"
        },
        "outputId": "1256c741-3400-4d0f-ce5a-384488f2c589"
      },
      "execution_count": 218,
      "outputs": [
        {
          "output_type": "execute_result",
          "data": {
            "text/plain": [
              "False"
            ]
          },
          "metadata": {},
          "execution_count": 218
        }
      ]
    },
    {
      "cell_type": "code",
      "source": [
        "# Operator pembanding lebih besar sama dengan (>=)\n",
        "1 >= 2"
      ],
      "metadata": {
        "id": "aJE-vQlkZqv1",
        "colab": {
          "base_uri": "https://localhost:8080/"
        },
        "outputId": "1dbff786-5fa2-4540-803e-80aa8967f8bb"
      },
      "execution_count": 219,
      "outputs": [
        {
          "output_type": "execute_result",
          "data": {
            "text/plain": [
              "False"
            ]
          },
          "metadata": {},
          "execution_count": 219
        }
      ]
    },
    {
      "cell_type": "code",
      "source": [
        "# Operator pembanding sama dengan (==)\n",
        "# Hint: operator == berbeda dengan =\n",
        "1 == 2"
      ],
      "metadata": {
        "id": "SMHVKIrWZlGR",
        "colab": {
          "base_uri": "https://localhost:8080/"
        },
        "outputId": "b968b211-5989-4e05-980c-fa9748dfb383"
      },
      "execution_count": 220,
      "outputs": [
        {
          "output_type": "execute_result",
          "data": {
            "text/plain": [
              "False"
            ]
          },
          "metadata": {},
          "execution_count": 220
        }
      ]
    },
    {
      "cell_type": "code",
      "source": [
        "# Operator pembanding tidak sama dengan (!=)\n",
        "1 != 2"
      ],
      "metadata": {
        "id": "E4ZTh701ZniJ",
        "colab": {
          "base_uri": "https://localhost:8080/"
        },
        "outputId": "9fd44133-13da-45e8-e17c-a224277731ea"
      },
      "execution_count": 221,
      "outputs": [
        {
          "output_type": "execute_result",
          "data": {
            "text/plain": [
              "True"
            ]
          },
          "metadata": {},
          "execution_count": 221
        }
      ]
    },
    {
      "cell_type": "markdown",
      "source": [
        "### Conditionals\n",
        "\n",
        "\n",
        "Contoh `conditionals` dalam kehidupan sehari-hari\n",
        "\n",
        "\n",
        "* **Jika** umur belum 17 tahun, **maka** belum boleh mengemudi.\n",
        "* **Jika** sudah vaksin, **maka** boleh makan di tempat\n",
        "\n",
        "\n",
        "Use an if statement whenever you come to a “fork” in the program"
      ],
      "metadata": {
        "id": "BP2R4GKoaluu"
      }
    },
    {
      "cell_type": "code",
      "source": [
        "age = 1\n",
        "\n",
        "if age < 17: #Jika True\n",
        "    print(\"Belum boleh mengemudi\") # indentasi sangat penting pada Python\n",
        "else:\n",
        "    print(\"Boleh mengemudi\")"
      ],
      "metadata": {
        "id": "xZyccAkua2vV",
        "colab": {
          "base_uri": "https://localhost:8080/"
        },
        "outputId": "5d6c5198-c71d-4a14-f323-4de89546de28"
      },
      "execution_count": 222,
      "outputs": [
        {
          "output_type": "stream",
          "name": "stdout",
          "text": [
            "Belum boleh mengemudi\n"
          ]
        }
      ]
    },
    {
      "cell_type": "code",
      "source": [
        "vaksin = \"Belum\"\n",
        "\n",
        "if vaksin == \"Sudah\":\n",
        "    print(\"Anda boleh makan di tempat\")\n",
        "else:\n",
        "    print(\"Anda tidak boleh makan di tempat\")"
      ],
      "metadata": {
        "id": "lpfV5VWjbfnp",
        "colab": {
          "base_uri": "https://localhost:8080/"
        },
        "outputId": "23afa277-41e4-4b2e-a768-0158d0c02327"
      },
      "execution_count": 223,
      "outputs": [
        {
          "output_type": "stream",
          "name": "stdout",
          "text": [
            "Anda tidak boleh makan di tempat\n"
          ]
        }
      ]
    },
    {
      "cell_type": "code",
      "source": [
        "# Condisional bisa bertingkat\n",
        "vaksin = \"aaa\"\n",
        "\n",
        "if vaksin == \"Sudah\": #Jika True\n",
        "    print(\"Anda boleh makan di tempat\")\n",
        "elif vaksin == \"Belum\":\n",
        "    print(\"Anda tidak boleh makan di tempat\")\n",
        "else:\n",
        "    print(\"Tolong sebutkan yang benar, Anda sudah divaksin atau belum?\")"
      ],
      "metadata": {
        "id": "uRfp9VFfbyiQ",
        "colab": {
          "base_uri": "https://localhost:8080/"
        },
        "outputId": "1654bc43-923b-41cf-ebbd-b696ed4df560"
      },
      "execution_count": 224,
      "outputs": [
        {
          "output_type": "stream",
          "name": "stdout",
          "text": [
            "Tolong sebutkan yang benar, Anda sudah divaksin atau belum?\n"
          ]
        }
      ]
    },
    {
      "cell_type": "markdown",
      "source": [
        "## Loops\n",
        "\n",
        "\n",
        "Contoh `loops` dalam kehidupan sehari-hari:\n",
        "\n",
        "* Tulis \"Aku belajar Python\" sebanyak 100 kali.\n",
        "\n",
        "\n",
        "Terdapat tiga konsep utama dalam looping\n",
        "\n",
        "\n",
        "1.   Permulaan looping\n",
        "2.   Akhir looping\n",
        "3.   Increment selama proses looping\n"
      ],
      "metadata": {
        "id": "_PKXNuPirDu2"
      }
    },
    {
      "cell_type": "markdown",
      "source": [
        "### `while` loop\n",
        "\n",
        "\n",
        "The while loop is used to execute a block of code while a certain condition is true"
      ],
      "metadata": {
        "id": "7iQZB8GieN_i"
      }
    },
    {
      "cell_type": "code",
      "source": [
        "kalimat = \"Aku belajar Python\"\n",
        "i = 0\n",
        "\n",
        "while i < 5:\n",
        "    print(kalimat)\n",
        "    i += 1 # sama dengan i = i + 1, istilahnya aggregate assignments"
      ],
      "metadata": {
        "id": "DgzCgpUbfV8p",
        "colab": {
          "base_uri": "https://localhost:8080/"
        },
        "outputId": "96758fba-e25b-489d-8c72-96dcd03d2e85"
      },
      "execution_count": 225,
      "outputs": [
        {
          "output_type": "stream",
          "name": "stdout",
          "text": [
            "Aku belajar Python\n",
            "Aku belajar Python\n",
            "Aku belajar Python\n",
            "Aku belajar Python\n",
            "Aku belajar Python\n"
          ]
        }
      ]
    },
    {
      "cell_type": "markdown",
      "source": [
        "### `for` loop\n",
        "\n",
        "\n",
        "* The for loop is used when there is a need to have a counter of some kind\n",
        "* The counter is initialized before the loop starts, tested after each iteration to see if it is below a target value, and finally updated at the end of the loop"
      ],
      "metadata": {
        "id": "88f6B7b6eShw"
      }
    },
    {
      "cell_type": "code",
      "source": [
        "for i in range(3):\n",
        "    print(kalimat)\n",
        "    i += 1"
      ],
      "metadata": {
        "id": "2DZ4vDgCeSBW",
        "colab": {
          "base_uri": "https://localhost:8080/"
        },
        "outputId": "6307480d-b90d-48ad-acc6-dffec843ca80"
      },
      "execution_count": 226,
      "outputs": [
        {
          "output_type": "stream",
          "name": "stdout",
          "text": [
            "Aku belajar Python\n",
            "Aku belajar Python\n",
            "Aku belajar Python\n"
          ]
        }
      ]
    },
    {
      "cell_type": "markdown",
      "source": [
        "## Function\n",
        "\n",
        "\n",
        "* Functions are a collection of statement that performs a specified task\n",
        "* Functions are used whenever it is necessary to repeat an operation\n",
        "* Functions have inputs and outputs\n",
        "* The inputs are passed into the function and are known as arguments or parameters\n",
        "* Think of a function as a “black box” which performs an operation."
      ],
      "metadata": {
        "id": "Eo4bid2AsCt0"
      }
    },
    {
      "cell_type": "code",
      "source": [
        "# contoh function penjumlahan\n",
        "def eq_add(x, y):\n",
        "    return(x + y)\n",
        "\n",
        "print(\"Jumlah = \", add_value(2, 3))"
      ],
      "metadata": {
        "colab": {
          "base_uri": "https://localhost:8080/"
        },
        "id": "AlYRotEZpsi0",
        "outputId": "baceef95-d10f-4903-fbb9-db0ab6da1aba"
      },
      "execution_count": 227,
      "outputs": [
        {
          "output_type": "stream",
          "name": "stdout",
          "text": [
            "Jumlah =  5\n"
          ]
        }
      ]
    },
    {
      "cell_type": "code",
      "source": [
        "# contoh function menghitung luas dan volume balok\n",
        "def eq_luas(p, l, t):\n",
        "    luas = 2 * (p * l + p * t + l * t)\n",
        "    return(luas)\n",
        "\n",
        "def eq_volume(p, l, t):\n",
        "    volume = p * l * t\n",
        "    return(volume)"
      ],
      "metadata": {
        "id": "5Tt4hRxVqEIt"
      },
      "execution_count": 228,
      "outputs": []
    },
    {
      "cell_type": "code",
      "source": [
        "# ukuran balok yang kita miliki\n",
        "p = 2\n",
        "l = 3\n",
        "t = 4"
      ],
      "metadata": {
        "id": "c4MEpFV5rgtH"
      },
      "execution_count": 229,
      "outputs": []
    },
    {
      "cell_type": "code",
      "source": [
        "# hitung luas menggunakan fungsi yang sudah dibuat\n",
        "print(\"Luas balok = \", eq_luas(p, l, t))\n",
        "\n",
        "# hitung volume menggunakan fungsi yang sudah dibuat\n",
        "print(\"Volume balok = \", eq_volume(p, l, t))"
      ],
      "metadata": {
        "colab": {
          "base_uri": "https://localhost:8080/"
        },
        "id": "sW-MqdaHrrko",
        "outputId": "2543d1f5-0068-40ec-8c54-5feee400d10d"
      },
      "execution_count": 230,
      "outputs": [
        {
          "output_type": "stream",
          "name": "stdout",
          "text": [
            "Luas balok =  52\n",
            "Volume balok =  24\n"
          ]
        }
      ]
    },
    {
      "cell_type": "markdown",
      "source": [
        "# Python Structures\n",
        "\n",
        "\n",
        "* Struktur data `list, dictionary, tuple, set` digunakan untuk menyimpan data yang lebih kompleks (dibandingkan dengan variabel).\n",
        "* Struktur data ini mendefinisikan relasi antara data dan operasi yang dapat dilakukan pada data tersebut."
      ],
      "metadata": {
        "id": "u54JhpBHrEex"
      }
    },
    {
      "cell_type": "markdown",
      "source": [
        "## Lists\n",
        "\n",
        "* List adalah tipe kontainer pada Python yang digunakan untuk menyimpan kumpulan data dalam waktu yang bersamaan.\n",
        "* List pada Python seringkali dibandingkan dengan array dalam bahasa pemrograman lain.\n",
        "* List pada Python ditandai dengan `[]`\n",
        "* List dapat diakses dengan index (mulai dari 0)"
      ],
      "metadata": {
        "id": "sbtuIA9GreVV"
      }
    },
    {
      "cell_type": "code",
      "source": [
        "# membuat list\n",
        "daftar_belanja = ['apel', 'jeruk', 'pisang', 'anggur']\n",
        "print(daftar_belanja)"
      ],
      "metadata": {
        "colab": {
          "base_uri": "https://localhost:8080/"
        },
        "id": "r-QLuLWaKFrl",
        "outputId": "df6bf361-05c9-4834-e224-639b51000001"
      },
      "execution_count": 231,
      "outputs": [
        {
          "output_type": "stream",
          "name": "stdout",
          "text": [
            "['apel', 'jeruk', 'pisang', 'anggur']\n"
          ]
        }
      ]
    },
    {
      "cell_type": "code",
      "source": [
        "# mengakses list\n",
        "daftar_belanja[1]"
      ],
      "metadata": {
        "colab": {
          "base_uri": "https://localhost:8080/",
          "height": 36
        },
        "id": "tksujlbdKgqz",
        "outputId": "e5fa0f13-6959-49cb-ac06-7f86ffd61643"
      },
      "execution_count": 232,
      "outputs": [
        {
          "output_type": "execute_result",
          "data": {
            "application/vnd.google.colaboratory.intrinsic+json": {
              "type": "string"
            },
            "text/plain": [
              "'jeruk'"
            ]
          },
          "metadata": {},
          "execution_count": 232
        }
      ]
    },
    {
      "cell_type": "code",
      "source": [
        "# menambah item ke dalam list\n",
        "daftar_belanja.append('semangka')\n",
        "daftar_belanja"
      ],
      "metadata": {
        "colab": {
          "base_uri": "https://localhost:8080/"
        },
        "id": "ZzXlRFrUN2y-",
        "outputId": "95f8ce4c-1f4a-4027-e521-2e5de36a8658"
      },
      "execution_count": 233,
      "outputs": [
        {
          "output_type": "execute_result",
          "data": {
            "text/plain": [
              "['apel', 'jeruk', 'pisang', 'anggur', 'semangka']"
            ]
          },
          "metadata": {},
          "execution_count": 233
        }
      ]
    },
    {
      "cell_type": "code",
      "source": [
        "# insert item ke dalam list\n",
        "daftar_belanja.insert(1, 'melon')\n",
        "daftar_belanja"
      ],
      "metadata": {
        "colab": {
          "base_uri": "https://localhost:8080/"
        },
        "id": "o6sjQHhmOHiN",
        "outputId": "585e4496-803e-40c7-c356-29e0c43e1156"
      },
      "execution_count": 234,
      "outputs": [
        {
          "output_type": "execute_result",
          "data": {
            "text/plain": [
              "['apel', 'melon', 'jeruk', 'pisang', 'anggur', 'semangka']"
            ]
          },
          "metadata": {},
          "execution_count": 234
        }
      ]
    },
    {
      "cell_type": "code",
      "source": [
        "# mengganti item di dalam list\n",
        "daftar_belanja[1] = 'ikan mas'\n",
        "daftar_belanja"
      ],
      "metadata": {
        "colab": {
          "base_uri": "https://localhost:8080/"
        },
        "id": "PE25R1ykgLkA",
        "outputId": "1d9bdd54-302d-4b00-8f0f-49e37ed87b15"
      },
      "execution_count": 235,
      "outputs": [
        {
          "output_type": "execute_result",
          "data": {
            "text/plain": [
              "['apel', 'ikan mas', 'jeruk', 'pisang', 'anggur', 'semangka']"
            ]
          },
          "metadata": {},
          "execution_count": 235
        }
      ]
    },
    {
      "cell_type": "code",
      "source": [
        "# banyaknya item dalam list\n",
        "len(daftar_belanja)"
      ],
      "metadata": {
        "colab": {
          "base_uri": "https://localhost:8080/"
        },
        "id": "EG3-B0h0OcxO",
        "outputId": "c539d865-2c4e-4b33-ee0b-546b63218b61"
      },
      "execution_count": 236,
      "outputs": [
        {
          "output_type": "execute_result",
          "data": {
            "text/plain": [
              "6"
            ]
          },
          "metadata": {},
          "execution_count": 236
        }
      ]
    },
    {
      "cell_type": "code",
      "source": [
        "# iterasi pada list\n",
        "for item in daftar_belanja:\n",
        "    print(\"buah \" + item)"
      ],
      "metadata": {
        "colab": {
          "base_uri": "https://localhost:8080/"
        },
        "id": "IM8dWOSTKmLj",
        "outputId": "29c8f849-411b-47bb-b0cd-59d78e9dd5e3"
      },
      "execution_count": 237,
      "outputs": [
        {
          "output_type": "stream",
          "name": "stdout",
          "text": [
            "buah apel\n",
            "buah ikan mas\n",
            "buah jeruk\n",
            "buah pisang\n",
            "buah anggur\n",
            "buah semangka\n"
          ]
        }
      ]
    },
    {
      "cell_type": "code",
      "source": [
        "# nested list\n",
        "x = [[1, 2, 3, 3],[4, 5, 6, 7], [11, 12, 13, 14]] # row, column\n",
        "\n",
        "for i in x:\n",
        "    print(i)"
      ],
      "metadata": {
        "colab": {
          "base_uri": "https://localhost:8080/"
        },
        "id": "8dr-P-4kKyFb",
        "outputId": "035129ef-201f-427a-afc3-06277064924e"
      },
      "execution_count": 238,
      "outputs": [
        {
          "output_type": "stream",
          "name": "stdout",
          "text": [
            "[1, 2, 3, 3]\n",
            "[4, 5, 6, 7]\n",
            "[11, 12, 13, 14]\n"
          ]
        }
      ]
    },
    {
      "cell_type": "code",
      "source": [
        "# mengakses nested list\n",
        "print(x[0][1])"
      ],
      "metadata": {
        "colab": {
          "base_uri": "https://localhost:8080/"
        },
        "id": "FGpGZCoHLUfa",
        "outputId": "4ca06f28-b915-4be2-daa0-5e7d3d2fabdb"
      },
      "execution_count": 239,
      "outputs": [
        {
          "output_type": "stream",
          "name": "stdout",
          "text": [
            "2\n"
          ]
        }
      ]
    },
    {
      "cell_type": "markdown",
      "source": [
        "## Dictionary Keys and Values\n",
        "\n",
        "\n",
        "* A Python dictionary is an unordered collection.\n",
        "* Dictionaries are written with curly brackets, and they have keys and values.\n",
        "* Keys must be unique — no duplicate keys are allowed.\n",
        "* Keys must be immutable — they can be a string, a number, or a tuple."
      ],
      "metadata": {
        "id": "c066zxIjriXd"
      }
    },
    {
      "cell_type": "code",
      "source": [
        "employee = {'name': \"Jack Nelson\",\n",
        "            'age': 32,\n",
        "            'department': \"sales\"}"
      ],
      "metadata": {
        "id": "htFCbVxJQmcv"
      },
      "execution_count": 240,
      "outputs": []
    },
    {
      "cell_type": "code",
      "source": [
        "employee['name']"
      ],
      "metadata": {
        "colab": {
          "base_uri": "https://localhost:8080/",
          "height": 36
        },
        "id": "RhLIPEjaQqm4",
        "outputId": "8b51ebb4-8d34-4080-db41-faf3d1c71e76"
      },
      "execution_count": 241,
      "outputs": [
        {
          "output_type": "execute_result",
          "data": {
            "application/vnd.google.colaboratory.intrinsic+json": {
              "type": "string"
            },
            "text/plain": [
              "'Jack Nelson'"
            ]
          },
          "metadata": {},
          "execution_count": 241
        }
      ]
    },
    {
      "cell_type": "code",
      "source": [
        "# membuat dictionary dari blank\n",
        "movie = {}\n",
        "movie['title'] = \"The Godfather\"\n",
        "movie['director'] = \"Francis Ford Coppola\"\n",
        "movie['year'] = 1972\n",
        "movie['rating'] = 9.2"
      ],
      "metadata": {
        "id": "e9jsfbyURBWx"
      },
      "execution_count": 242,
      "outputs": []
    },
    {
      "cell_type": "code",
      "source": [
        "# menambah key-value ke dalam dictionary movie\n",
        "# list dalam dictionary\n",
        "# dictionary dalam dictionary\n",
        "movie['actors'] = ['Marlon Brando', 'Al Pacino', 'James Caan']\n",
        "movie['other_details'] = {'runtime': 175,\n",
        "                          'language': 'English'}"
      ],
      "metadata": {
        "id": "n7puVTa0REOl"
      },
      "execution_count": 243,
      "outputs": []
    },
    {
      "cell_type": "code",
      "source": [
        "print(movie)"
      ],
      "metadata": {
        "colab": {
          "base_uri": "https://localhost:8080/"
        },
        "id": "E7f2Inq1RKbn",
        "outputId": "958fe490-d3e1-469c-8680-52ae57d50099"
      },
      "execution_count": 244,
      "outputs": [
        {
          "output_type": "stream",
          "name": "stdout",
          "text": [
            "{'title': 'The Godfather', 'director': 'Francis Ford Coppola', 'year': 1972, 'rating': 9.2, 'actors': ['Marlon Brando', 'Al Pacino', 'James Caan'], 'other_details': {'runtime': 175, 'language': 'English'}}\n"
          ]
        }
      ]
    },
    {
      "cell_type": "markdown",
      "source": [
        "## Tuples\n",
        "\n",
        "\n",
        "* A tuple object is similar to a list, but it cannot be changed. \n",
        "* Tuples are immutable sequences, which means their values cannot be changed after initialization"
      ],
      "metadata": {
        "id": "2MrbTeZxrnPa"
      }
    },
    {
      "cell_type": "code",
      "source": [
        "# nama-nama hari dalam struktur list\n",
        "weekdays_list = ['Monday', 'Tuesday', 'Wednesday','Thursday','Friday','Saturday', 'Sunday']\n",
        "\n",
        "# nama-nama hari dalam struktur tuple\n",
        "weekdays_tuple = ('Monday', 'Tuesday', 'Wednesday','Thursday','Friday','Saturday', 'Sunday')"
      ],
      "metadata": {
        "id": "HCL951kOgV6W"
      },
      "execution_count": 245,
      "outputs": []
    },
    {
      "cell_type": "code",
      "source": [
        "# indexing tuple\n",
        "print(weekdays_tuple[1])"
      ],
      "metadata": {
        "colab": {
          "base_uri": "https://localhost:8080/"
        },
        "id": "xfoc9DF6gxvv",
        "outputId": "4d9f6026-d7ee-47ad-90c6-309d1201fb1a"
      },
      "execution_count": 246,
      "outputs": [
        {
          "output_type": "stream",
          "name": "stdout",
          "text": [
            "Tuesday\n"
          ]
        }
      ]
    },
    {
      "cell_type": "code",
      "source": [
        "# menambahkan hari\n",
        "weekdays_tuple = weekdays_tuple + ('new_day', 'old_day')\n",
        "print(weekdays_tuple)"
      ],
      "metadata": {
        "colab": {
          "base_uri": "https://localhost:8080/"
        },
        "id": "_r1I02uQg-81",
        "outputId": "2b9403d6-9a68-4bff-a1bd-467aa739aab8"
      },
      "execution_count": 247,
      "outputs": [
        {
          "output_type": "stream",
          "name": "stdout",
          "text": [
            "('Monday', 'Tuesday', 'Wednesday', 'Thursday', 'Friday', 'Saturday', 'Sunday', 'new_day', 'old_day')\n"
          ]
        }
      ]
    },
    {
      "cell_type": "code",
      "source": [
        "# menambahkan satu value ke dalam tuple\n",
        "weekdays_tuple = weekdays_tuple + ('great_day',)\n",
        "print(weekdays_tuple)"
      ],
      "metadata": {
        "colab": {
          "base_uri": "https://localhost:8080/"
        },
        "id": "7woyA9lShpUe",
        "outputId": "3c8d7e34-c5be-4e23-f78e-4b287a6dd365"
      },
      "execution_count": 248,
      "outputs": [
        {
          "output_type": "stream",
          "name": "stdout",
          "text": [
            "('Monday', 'Tuesday', 'Wednesday', 'Thursday', 'Friday', 'Saturday', 'Sunday', 'new_day', 'old_day', 'great_day')\n"
          ]
        }
      ]
    },
    {
      "cell_type": "code",
      "source": [
        "weekdays_tuple[0] = 'same_day'"
      ],
      "metadata": {
        "colab": {
          "base_uri": "https://localhost:8080/",
          "height": 168
        },
        "id": "Y-Cyl0KFiHsv",
        "outputId": "750db741-5edf-4ec9-87c8-31a569b0668f"
      },
      "execution_count": 249,
      "outputs": [
        {
          "output_type": "error",
          "ename": "TypeError",
          "evalue": "ignored",
          "traceback": [
            "\u001b[0;31m---------------------------------------------------------------------------\u001b[0m",
            "\u001b[0;31mTypeError\u001b[0m                                 Traceback (most recent call last)",
            "\u001b[0;32m<ipython-input-249-5e0f65296ba2>\u001b[0m in \u001b[0;36m<module>\u001b[0;34m()\u001b[0m\n\u001b[0;32m----> 1\u001b[0;31m \u001b[0mweekdays_tuple\u001b[0m\u001b[0;34m[\u001b[0m\u001b[0;36m0\u001b[0m\u001b[0;34m]\u001b[0m \u001b[0;34m=\u001b[0m \u001b[0;34m'same_day'\u001b[0m\u001b[0;34m\u001b[0m\u001b[0;34m\u001b[0m\u001b[0m\n\u001b[0m",
            "\u001b[0;31mTypeError\u001b[0m: 'tuple' object does not support item assignment"
          ]
        }
      ]
    },
    {
      "cell_type": "markdown",
      "source": [
        "## Set\n",
        "\n",
        "* They are unordered (original order are not preserved) collections of unique and immutable objects that support operations mimicking mathematical set theory.\n",
        "* As sets do not allow multiple occurrences of the same element, they can be used to effectively prevent duplicate values.\n",
        "* A set is a collection of objects (called members or elements)"
      ],
      "metadata": {
        "id": "JNsFeiMOrqgh"
      }
    },
    {
      "cell_type": "markdown",
      "source": [
        "![Set](https://external-content.duckduckgo.com/iu/?u=https%3A%2F%2Fwww.gmatsyllabus.com%2Fimages%2Fstories%2Fquant%2Fvenn-diagrams.png&f=1&nofb=1)"
      ],
      "metadata": {
        "id": "ZR3p_TNtkuoe"
      }
    },
    {
      "cell_type": "code",
      "source": [
        "# contoh set\n",
        "s1 = set([1,2,3,4,5,6])\n",
        "print(s1)\n",
        "\n",
        "s2 = set([1,2,2,3,4,4,5,6,6])\n",
        "print(s2)\n",
        "\n",
        "s3 = set([3,4,5,6,6,6,1,1,2])\n",
        "print(s3)\n",
        "\n",
        "s4 = {\"apple\", \"orange\", \"banana\", \"apple\"}\n",
        "print(s4)"
      ],
      "metadata": {
        "colab": {
          "base_uri": "https://localhost:8080/"
        },
        "id": "Z-J0yvRQicZu",
        "outputId": "5349cd11-6c26-4436-9a0e-7e776b98e286"
      },
      "execution_count": 250,
      "outputs": [
        {
          "output_type": "stream",
          "name": "stdout",
          "text": [
            "{1, 2, 3, 4, 5, 6}\n",
            "{1, 2, 3, 4, 5, 6}\n",
            "{1, 2, 3, 4, 5, 6}\n",
            "{'banana', 'orange', 'apple'}\n"
          ]
        }
      ]
    },
    {
      "cell_type": "code",
      "source": [
        "# menambah item ke dalam set\n",
        "s4.add('pineapple')\n",
        "print(s4)"
      ],
      "metadata": {
        "colab": {
          "base_uri": "https://localhost:8080/"
        },
        "id": "RpE2MuSKioPV",
        "outputId": "4c3dbdb8-3164-486f-d6da-f27d76a538df"
      },
      "execution_count": 251,
      "outputs": [
        {
          "output_type": "stream",
          "name": "stdout",
          "text": [
            "{'pineapple', 'banana', 'orange', 'apple'}\n"
          ]
        }
      ]
    },
    {
      "cell_type": "code",
      "source": [
        "# contoh lainnya\n",
        "s5 = {1,2,3,4}\n",
        "s6 = {3,4,5,6}\n",
        "\n",
        "s7 = {1,2,3}\n",
        "s8 = {1,2,3,4,5}"
      ],
      "metadata": {
        "id": "9vJr039Xiqx0"
      },
      "execution_count": 252,
      "outputs": []
    },
    {
      "cell_type": "code",
      "source": [
        "# union\n",
        "print(\"union :\", s5.union(s6))\n",
        "\n",
        "# intersection\n",
        "print(\"intersection :\", s5.intersection(s6))\n",
        "\n",
        "# difference\n",
        "print(\"difference :\", s5.difference(s6))\n",
        "\n",
        "# subset\n",
        "print(\"subset :\", s5.issubset(s6))\n",
        "print(\"subset :\", s7.issubset(s8))\n",
        "\n",
        "# superset\n",
        "print(\"superset :\", s8.issuperset(s7))"
      ],
      "metadata": {
        "colab": {
          "base_uri": "https://localhost:8080/"
        },
        "id": "MCYxqLRCjeO5",
        "outputId": "8200c462-6464-4617-9415-e8e0321c33d3"
      },
      "execution_count": 253,
      "outputs": [
        {
          "output_type": "stream",
          "name": "stdout",
          "text": [
            "union : {1, 2, 3, 4, 5, 6}\n",
            "intersection : {3, 4}\n",
            "difference : {1, 2}\n",
            "subset : False\n",
            "subset : True\n",
            "superset : True\n"
          ]
        }
      ]
    }
  ]
}